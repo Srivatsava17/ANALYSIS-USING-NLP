{
 "cells": [
  {
   "cell_type": "code",
   "execution_count": 1,
   "metadata": {},
   "outputs": [],
   "source": [
    "import numpy as np\n",
    "import pandas as pd\n",
    "import re\n",
    "from nltk.corpus import stopwords\n",
    "from sklearn.feature_extraction.text import CountVectorizer\n",
    "from sklearn.model_selection import train_test_split\n",
    "from nltk.stem.snowball import SnowballStemmer\n",
    "import warnings\n",
    "warnings.filterwarnings('ignore')\n",
    "import pandas_profiling as pp\n",
    "import seaborn as sns\n",
    "import matplotlib as plt\n",
    "%matplotlib inline"
   ]
  },
  {
   "cell_type": "code",
   "execution_count": 2,
   "metadata": {},
   "outputs": [],
   "source": [
    "blog_df = pd.read_csv('C:/Users/nsriv/Desktop/PC/Downloads/Compressed/archive/blogtext.csv')"
   ]
  },
  {
   "cell_type": "code",
   "execution_count": 3,
   "metadata": {},
   "outputs": [
    {
     "data": {
      "text/plain": [
       "(681284, 7)"
      ]
     },
     "execution_count": 3,
     "metadata": {},
     "output_type": "execute_result"
    }
   ],
   "source": [
    "blog_df.shape"
   ]
  },
  {
   "cell_type": "code",
   "execution_count": 4,
   "metadata": {},
   "outputs": [
    {
     "data": {
      "text/html": [
       "<div>\n",
       "<style scoped>\n",
       "    .dataframe tbody tr th:only-of-type {\n",
       "        vertical-align: middle;\n",
       "    }\n",
       "\n",
       "    .dataframe tbody tr th {\n",
       "        vertical-align: top;\n",
       "    }\n",
       "\n",
       "    .dataframe thead th {\n",
       "        text-align: right;\n",
       "    }\n",
       "</style>\n",
       "<table border=\"1\" class=\"dataframe\">\n",
       "  <thead>\n",
       "    <tr style=\"text-align: right;\">\n",
       "      <th></th>\n",
       "      <th>id</th>\n",
       "      <th>gender</th>\n",
       "      <th>age</th>\n",
       "      <th>topic</th>\n",
       "      <th>sign</th>\n",
       "      <th>date</th>\n",
       "      <th>text</th>\n",
       "    </tr>\n",
       "  </thead>\n",
       "  <tbody>\n",
       "    <tr>\n",
       "      <th>206203</th>\n",
       "      <td>3889807</td>\n",
       "      <td>female</td>\n",
       "      <td>24</td>\n",
       "      <td>indUnk</td>\n",
       "      <td>Aquarius</td>\n",
       "      <td>05,August,2004</td>\n",
       "      <td>Right after  urlLink This Modern World ...</td>\n",
       "    </tr>\n",
       "    <tr>\n",
       "      <th>542824</th>\n",
       "      <td>1162265</td>\n",
       "      <td>male</td>\n",
       "      <td>17</td>\n",
       "      <td>Student</td>\n",
       "      <td>Aries</td>\n",
       "      <td>10,noviembre,2003</td>\n",
       "      <td>Video Games are like drugs.  I feel lik...</td>\n",
       "    </tr>\n",
       "    <tr>\n",
       "      <th>182765</th>\n",
       "      <td>1826527</td>\n",
       "      <td>male</td>\n",
       "      <td>25</td>\n",
       "      <td>Science</td>\n",
       "      <td>Cancer</td>\n",
       "      <td>16,October,2003</td>\n",
       "      <td>Well, it's officially worry t...</td>\n",
       "    </tr>\n",
       "    <tr>\n",
       "      <th>86063</th>\n",
       "      <td>3588546</td>\n",
       "      <td>male</td>\n",
       "      <td>16</td>\n",
       "      <td>Technology</td>\n",
       "      <td>Aquarius</td>\n",
       "      <td>15,June,2004</td>\n",
       "      <td>Okay, here's something different ...</td>\n",
       "    </tr>\n",
       "    <tr>\n",
       "      <th>419546</th>\n",
       "      <td>1470319</td>\n",
       "      <td>female</td>\n",
       "      <td>26</td>\n",
       "      <td>Museums-Libraries</td>\n",
       "      <td>Libra</td>\n",
       "      <td>15,May,2003</td>\n",
       "      <td>Ok ladies and Chris. I am sitting...</td>\n",
       "    </tr>\n",
       "  </tbody>\n",
       "</table>\n",
       "</div>"
      ],
      "text/plain": [
       "             id  gender  age              topic      sign               date  \\\n",
       "206203  3889807  female   24             indUnk  Aquarius     05,August,2004   \n",
       "542824  1162265    male   17            Student     Aries  10,noviembre,2003   \n",
       "182765  1826527    male   25            Science    Cancer    16,October,2003   \n",
       "86063   3588546    male   16         Technology  Aquarius       15,June,2004   \n",
       "419546  1470319  female   26  Museums-Libraries     Libra        15,May,2003   \n",
       "\n",
       "                                                     text  \n",
       "206203         Right after  urlLink This Modern World ...  \n",
       "542824         Video Games are like drugs.  I feel lik...  \n",
       "182765                   Well, it's officially worry t...  \n",
       "86063                Okay, here's something different ...  \n",
       "419546               Ok ladies and Chris. I am sitting...  "
      ]
     },
     "execution_count": 4,
     "metadata": {},
     "output_type": "execute_result"
    }
   ],
   "source": [
    "blog_df.sample(5)"
   ]
  },
  {
   "cell_type": "code",
   "execution_count": 5,
   "metadata": {},
   "outputs": [],
   "source": [
    "blog_df = pd.read_csv('C:/Users/nsriv/Desktop/PC/Downloads/Compressed/archive/blogtext.csv',nrows=50000)\n",
    "#we are restricting to 50000 rows because it is taking long time and memory error happens."
   ]
  },
  {
   "cell_type": "code",
   "execution_count": 6,
   "metadata": {},
   "outputs": [
    {
     "data": {
      "text/html": [
       "<div>\n",
       "<style scoped>\n",
       "    .dataframe tbody tr th:only-of-type {\n",
       "        vertical-align: middle;\n",
       "    }\n",
       "\n",
       "    .dataframe tbody tr th {\n",
       "        vertical-align: top;\n",
       "    }\n",
       "\n",
       "    .dataframe thead th {\n",
       "        text-align: right;\n",
       "    }\n",
       "</style>\n",
       "<table border=\"1\" class=\"dataframe\">\n",
       "  <thead>\n",
       "    <tr style=\"text-align: right;\">\n",
       "      <th></th>\n",
       "      <th>id</th>\n",
       "      <th>gender</th>\n",
       "      <th>age</th>\n",
       "      <th>topic</th>\n",
       "      <th>sign</th>\n",
       "      <th>date</th>\n",
       "      <th>text</th>\n",
       "    </tr>\n",
       "  </thead>\n",
       "  <tbody>\n",
       "    <tr>\n",
       "      <th>0</th>\n",
       "      <td>2059027</td>\n",
       "      <td>male</td>\n",
       "      <td>15</td>\n",
       "      <td>Student</td>\n",
       "      <td>Leo</td>\n",
       "      <td>14,May,2004</td>\n",
       "      <td>Info has been found (+/- 100 pages,...</td>\n",
       "    </tr>\n",
       "    <tr>\n",
       "      <th>1</th>\n",
       "      <td>2059027</td>\n",
       "      <td>male</td>\n",
       "      <td>15</td>\n",
       "      <td>Student</td>\n",
       "      <td>Leo</td>\n",
       "      <td>13,May,2004</td>\n",
       "      <td>These are the team members:   Drewe...</td>\n",
       "    </tr>\n",
       "    <tr>\n",
       "      <th>2</th>\n",
       "      <td>2059027</td>\n",
       "      <td>male</td>\n",
       "      <td>15</td>\n",
       "      <td>Student</td>\n",
       "      <td>Leo</td>\n",
       "      <td>12,May,2004</td>\n",
       "      <td>In het kader van kernfusie op aarde...</td>\n",
       "    </tr>\n",
       "    <tr>\n",
       "      <th>3</th>\n",
       "      <td>2059027</td>\n",
       "      <td>male</td>\n",
       "      <td>15</td>\n",
       "      <td>Student</td>\n",
       "      <td>Leo</td>\n",
       "      <td>12,May,2004</td>\n",
       "      <td>testing!!!  testing!!!</td>\n",
       "    </tr>\n",
       "    <tr>\n",
       "      <th>4</th>\n",
       "      <td>3581210</td>\n",
       "      <td>male</td>\n",
       "      <td>33</td>\n",
       "      <td>InvestmentBanking</td>\n",
       "      <td>Aquarius</td>\n",
       "      <td>11,June,2004</td>\n",
       "      <td>Thanks to Yahoo!'s Toolbar I can ...</td>\n",
       "    </tr>\n",
       "  </tbody>\n",
       "</table>\n",
       "</div>"
      ],
      "text/plain": [
       "        id gender  age              topic      sign          date  \\\n",
       "0  2059027   male   15            Student       Leo   14,May,2004   \n",
       "1  2059027   male   15            Student       Leo   13,May,2004   \n",
       "2  2059027   male   15            Student       Leo   12,May,2004   \n",
       "3  2059027   male   15            Student       Leo   12,May,2004   \n",
       "4  3581210   male   33  InvestmentBanking  Aquarius  11,June,2004   \n",
       "\n",
       "                                                text  \n",
       "0             Info has been found (+/- 100 pages,...  \n",
       "1             These are the team members:   Drewe...  \n",
       "2             In het kader van kernfusie op aarde...  \n",
       "3                   testing!!!  testing!!!            \n",
       "4               Thanks to Yahoo!'s Toolbar I can ...  "
      ]
     },
     "execution_count": 6,
     "metadata": {},
     "output_type": "execute_result"
    }
   ],
   "source": [
    "blog_df.head()"
   ]
  },
  {
   "cell_type": "code",
   "execution_count": 7,
   "metadata": {},
   "outputs": [
    {
     "name": "stdout",
     "output_type": "stream",
     "text": [
      "<class 'pandas.core.frame.DataFrame'>\n",
      "RangeIndex: 50000 entries, 0 to 49999\n",
      "Data columns (total 7 columns):\n",
      " #   Column  Non-Null Count  Dtype \n",
      "---  ------  --------------  ----- \n",
      " 0   id      50000 non-null  int64 \n",
      " 1   gender  50000 non-null  object\n",
      " 2   age     50000 non-null  int64 \n",
      " 3   topic   50000 non-null  object\n",
      " 4   sign    50000 non-null  object\n",
      " 5   date    50000 non-null  object\n",
      " 6   text    50000 non-null  object\n",
      "dtypes: int64(2), object(5)\n",
      "memory usage: 2.7+ MB\n"
     ]
    }
   ],
   "source": [
    "\n",
    "blog_df.info()"
   ]
  },
  {
   "cell_type": "code",
   "execution_count": 8,
   "metadata": {},
   "outputs": [
    {
     "data": {
      "text/plain": [
       "male      25815\n",
       "female    24185\n",
       "Name: gender, dtype: int64"
      ]
     },
     "execution_count": 8,
     "metadata": {},
     "output_type": "execute_result"
    }
   ],
   "source": [
    "blog_df.gender.value_counts()"
   ]
  },
  {
   "cell_type": "markdown",
   "metadata": {},
   "source": [
    "# EDA with Pandas Profiler"
   ]
  },
  {
   "cell_type": "code",
   "execution_count": 9,
   "metadata": {},
   "outputs": [
    {
     "data": {
      "text/plain": [
       "id        0\n",
       "gender    0\n",
       "age       0\n",
       "topic     0\n",
       "sign      0\n",
       "date      0\n",
       "text      0\n",
       "dtype: int64"
      ]
     },
     "execution_count": 9,
     "metadata": {},
     "output_type": "execute_result"
    }
   ],
   "source": [
    "blog_df.isna().sum()"
   ]
  },
  {
   "cell_type": "code",
   "execution_count": 10,
   "metadata": {},
   "outputs": [
    {
     "data": {
      "text/plain": [
       "<AxesSubplot:xlabel='gender', ylabel='count'>"
      ]
     },
     "execution_count": 10,
     "metadata": {},
     "output_type": "execute_result"
    },
    {
     "data": {
      "image/png": "[encoded data removed]",
      "text/plain": [
       "<Figure size 432x288 with 1 Axes>"
      ]
     },
     "metadata": {
      "needs_background": "light"
     },
     "output_type": "display_data"
    }
   ],
   "source": [
    "sns.countplot(x='gender',data=blog_df)"
   ]
  },
  {
   "cell_type": "code",
   "execution_count": 11,
   "metadata": {},
   "outputs": [
    {
     "data": {
      "text/plain": [
       "<AxesSubplot:xlabel='sign', ylabel='count'>"
      ]
     },
     "execution_count": 11,
     "metadata": {},
     "output_type": "execute_result"
    },
    {
     "data": {
      "image/png": "[encoded data removed]",
      "text/plain": [
       "<Figure size 432x288 with 1 Axes>"
      ]
     },
     "metadata": {
      "needs_background": "light"
     },
     "output_type": "display_data"
    }
   ],
   "source": [
    "sns.countplot(x='sign',data=blog_df)"
   ]
  },
  {
   "cell_type": "code",
   "execution_count": 12,
   "metadata": {},
   "outputs": [
    {
     "data": {
      "text/plain": [
       "id        0\n",
       "gender    0\n",
       "age       0\n",
       "topic     0\n",
       "sign      0\n",
       "date      0\n",
       "text      0\n",
       "dtype: int64"
      ]
     },
     "execution_count": 12,
     "metadata": {},
     "output_type": "execute_result"
    }
   ],
   "source": [
    "blog_df.isnull().sum()"
   ]
  },
  {
   "cell_type": "markdown",
   "metadata": {},
   "source": [
    "# 2 Preprocess rows of the “text” column \n",
    "\n",
    "a. Remove unwanted characters\n",
    "\n",
    "b. Convert text to lowercase\n",
    "\n",
    "c. Remove unwanted spaces\n",
    "\n",
    "d. Remove stopwords"
   ]
  },
  {
   "cell_type": "code",
   "execution_count": 13,
   "metadata": {},
   "outputs": [],
   "source": [
    "# remove unwanted chars other than alphanumeric\n",
    "pattern = \"[^\\w ]\"\n",
    "blog_df.text = blog_df.text.apply(lambda s : re.sub(pattern,\"\",s))"
   ]
  },
  {
   "cell_type": "code",
   "execution_count": 14,
   "metadata": {},
   "outputs": [
    {
     "data": {
      "text/html": [
       "<div>\n",
       "<style scoped>\n",
       "    .dataframe tbody tr th:only-of-type {\n",
       "        vertical-align: middle;\n",
       "    }\n",
       "\n",
       "    .dataframe tbody tr th {\n",
       "        vertical-align: top;\n",
       "    }\n",
       "\n",
       "    .dataframe thead th {\n",
       "        text-align: right;\n",
       "    }\n",
       "</style>\n",
       "<table border=\"1\" class=\"dataframe\">\n",
       "  <thead>\n",
       "    <tr style=\"text-align: right;\">\n",
       "      <th></th>\n",
       "      <th>id</th>\n",
       "      <th>gender</th>\n",
       "      <th>age</th>\n",
       "      <th>topic</th>\n",
       "      <th>sign</th>\n",
       "      <th>date</th>\n",
       "      <th>text</th>\n",
       "    </tr>\n",
       "  </thead>\n",
       "  <tbody>\n",
       "    <tr>\n",
       "      <th>0</th>\n",
       "      <td>2059027</td>\n",
       "      <td>male</td>\n",
       "      <td>15</td>\n",
       "      <td>Student</td>\n",
       "      <td>Leo</td>\n",
       "      <td>14,May,2004</td>\n",
       "      <td>Info has been found  100 pages and ...</td>\n",
       "    </tr>\n",
       "    <tr>\n",
       "      <th>1</th>\n",
       "      <td>2059027</td>\n",
       "      <td>male</td>\n",
       "      <td>15</td>\n",
       "      <td>Student</td>\n",
       "      <td>Leo</td>\n",
       "      <td>13,May,2004</td>\n",
       "      <td>These are the team members   Drewes...</td>\n",
       "    </tr>\n",
       "    <tr>\n",
       "      <th>2</th>\n",
       "      <td>2059027</td>\n",
       "      <td>male</td>\n",
       "      <td>15</td>\n",
       "      <td>Student</td>\n",
       "      <td>Leo</td>\n",
       "      <td>12,May,2004</td>\n",
       "      <td>In het kader van kernfusie op aarde...</td>\n",
       "    </tr>\n",
       "    <tr>\n",
       "      <th>3</th>\n",
       "      <td>2059027</td>\n",
       "      <td>male</td>\n",
       "      <td>15</td>\n",
       "      <td>Student</td>\n",
       "      <td>Leo</td>\n",
       "      <td>12,May,2004</td>\n",
       "      <td>testing  testing</td>\n",
       "    </tr>\n",
       "    <tr>\n",
       "      <th>4</th>\n",
       "      <td>3581210</td>\n",
       "      <td>male</td>\n",
       "      <td>33</td>\n",
       "      <td>InvestmentBanking</td>\n",
       "      <td>Aquarius</td>\n",
       "      <td>11,June,2004</td>\n",
       "      <td>Thanks to Yahoos Toolbar I can no...</td>\n",
       "    </tr>\n",
       "  </tbody>\n",
       "</table>\n",
       "</div>"
      ],
      "text/plain": [
       "        id gender  age              topic      sign          date  \\\n",
       "0  2059027   male   15            Student       Leo   14,May,2004   \n",
       "1  2059027   male   15            Student       Leo   13,May,2004   \n",
       "2  2059027   male   15            Student       Leo   12,May,2004   \n",
       "3  2059027   male   15            Student       Leo   12,May,2004   \n",
       "4  3581210   male   33  InvestmentBanking  Aquarius  11,June,2004   \n",
       "\n",
       "                                                text  \n",
       "0             Info has been found  100 pages and ...  \n",
       "1             These are the team members   Drewes...  \n",
       "2             In het kader van kernfusie op aarde...  \n",
       "3                         testing  testing            \n",
       "4               Thanks to Yahoos Toolbar I can no...  "
      ]
     },
     "execution_count": 14,
     "metadata": {},
     "output_type": "execute_result"
    }
   ],
   "source": [
    "blog_df.head(5)"
   ]
  },
  {
   "cell_type": "code",
   "execution_count": 15,
   "metadata": {},
   "outputs": [],
   "source": [
    "#covert text to lower\n",
    "blog_df.text = blog_df.text.apply(lambda s: s.lower())"
   ]
  },
  {
   "cell_type": "code",
   "execution_count": 16,
   "metadata": {},
   "outputs": [
    {
     "data": {
      "text/html": [
       "<div>\n",
       "<style scoped>\n",
       "    .dataframe tbody tr th:only-of-type {\n",
       "        vertical-align: middle;\n",
       "    }\n",
       "\n",
       "    .dataframe tbody tr th {\n",
       "        vertical-align: top;\n",
       "    }\n",
       "\n",
       "    .dataframe thead th {\n",
       "        text-align: right;\n",
       "    }\n",
       "</style>\n",
       "<table border=\"1\" class=\"dataframe\">\n",
       "  <thead>\n",
       "    <tr style=\"text-align: right;\">\n",
       "      <th></th>\n",
       "      <th>id</th>\n",
       "      <th>gender</th>\n",
       "      <th>age</th>\n",
       "      <th>topic</th>\n",
       "      <th>sign</th>\n",
       "      <th>date</th>\n",
       "      <th>text</th>\n",
       "    </tr>\n",
       "  </thead>\n",
       "  <tbody>\n",
       "    <tr>\n",
       "      <th>0</th>\n",
       "      <td>2059027</td>\n",
       "      <td>male</td>\n",
       "      <td>15</td>\n",
       "      <td>Student</td>\n",
       "      <td>Leo</td>\n",
       "      <td>14,May,2004</td>\n",
       "      <td>info has been found  100 pages and ...</td>\n",
       "    </tr>\n",
       "    <tr>\n",
       "      <th>1</th>\n",
       "      <td>2059027</td>\n",
       "      <td>male</td>\n",
       "      <td>15</td>\n",
       "      <td>Student</td>\n",
       "      <td>Leo</td>\n",
       "      <td>13,May,2004</td>\n",
       "      <td>these are the team members   drewes...</td>\n",
       "    </tr>\n",
       "    <tr>\n",
       "      <th>2</th>\n",
       "      <td>2059027</td>\n",
       "      <td>male</td>\n",
       "      <td>15</td>\n",
       "      <td>Student</td>\n",
       "      <td>Leo</td>\n",
       "      <td>12,May,2004</td>\n",
       "      <td>in het kader van kernfusie op aarde...</td>\n",
       "    </tr>\n",
       "    <tr>\n",
       "      <th>3</th>\n",
       "      <td>2059027</td>\n",
       "      <td>male</td>\n",
       "      <td>15</td>\n",
       "      <td>Student</td>\n",
       "      <td>Leo</td>\n",
       "      <td>12,May,2004</td>\n",
       "      <td>testing  testing</td>\n",
       "    </tr>\n",
       "    <tr>\n",
       "      <th>4</th>\n",
       "      <td>3581210</td>\n",
       "      <td>male</td>\n",
       "      <td>33</td>\n",
       "      <td>InvestmentBanking</td>\n",
       "      <td>Aquarius</td>\n",
       "      <td>11,June,2004</td>\n",
       "      <td>thanks to yahoos toolbar i can no...</td>\n",
       "    </tr>\n",
       "  </tbody>\n",
       "</table>\n",
       "</div>"
      ],
      "text/plain": [
       "        id gender  age              topic      sign          date  \\\n",
       "0  2059027   male   15            Student       Leo   14,May,2004   \n",
       "1  2059027   male   15            Student       Leo   13,May,2004   \n",
       "2  2059027   male   15            Student       Leo   12,May,2004   \n",
       "3  2059027   male   15            Student       Leo   12,May,2004   \n",
       "4  3581210   male   33  InvestmentBanking  Aquarius  11,June,2004   \n",
       "\n",
       "                                                text  \n",
       "0             info has been found  100 pages and ...  \n",
       "1             these are the team members   drewes...  \n",
       "2             in het kader van kernfusie op aarde...  \n",
       "3                         testing  testing            \n",
       "4               thanks to yahoos toolbar i can no...  "
      ]
     },
     "execution_count": 16,
     "metadata": {},
     "output_type": "execute_result"
    }
   ],
   "source": [
    "blog_df.head(5)"
   ]
  },
  {
   "cell_type": "code",
   "execution_count": 17,
   "metadata": {},
   "outputs": [],
   "source": [
    "#remove unwanted spaces\n",
    "blog_df.text = blog_df.text.apply(lambda s: s.strip())"
   ]
  },
  {
   "cell_type": "code",
   "execution_count": 18,
   "metadata": {},
   "outputs": [
    {
     "data": {
      "text/html": [
       "<div>\n",
       "<style scoped>\n",
       "    .dataframe tbody tr th:only-of-type {\n",
       "        vertical-align: middle;\n",
       "    }\n",
       "\n",
       "    .dataframe tbody tr th {\n",
       "        vertical-align: top;\n",
       "    }\n",
       "\n",
       "    .dataframe thead th {\n",
       "        text-align: right;\n",
       "    }\n",
       "</style>\n",
       "<table border=\"1\" class=\"dataframe\">\n",
       "  <thead>\n",
       "    <tr style=\"text-align: right;\">\n",
       "      <th></th>\n",
       "      <th>id</th>\n",
       "      <th>gender</th>\n",
       "      <th>age</th>\n",
       "      <th>topic</th>\n",
       "      <th>sign</th>\n",
       "      <th>date</th>\n",
       "      <th>text</th>\n",
       "    </tr>\n",
       "  </thead>\n",
       "  <tbody>\n",
       "    <tr>\n",
       "      <th>0</th>\n",
       "      <td>2059027</td>\n",
       "      <td>male</td>\n",
       "      <td>15</td>\n",
       "      <td>Student</td>\n",
       "      <td>Leo</td>\n",
       "      <td>14,May,2004</td>\n",
       "      <td>info has been found  100 pages and 45 mb of pd...</td>\n",
       "    </tr>\n",
       "    <tr>\n",
       "      <th>1</th>\n",
       "      <td>2059027</td>\n",
       "      <td>male</td>\n",
       "      <td>15</td>\n",
       "      <td>Student</td>\n",
       "      <td>Leo</td>\n",
       "      <td>13,May,2004</td>\n",
       "      <td>these are the team members   drewes van der la...</td>\n",
       "    </tr>\n",
       "    <tr>\n",
       "      <th>2</th>\n",
       "      <td>2059027</td>\n",
       "      <td>male</td>\n",
       "      <td>15</td>\n",
       "      <td>Student</td>\n",
       "      <td>Leo</td>\n",
       "      <td>12,May,2004</td>\n",
       "      <td>in het kader van kernfusie op aarde  maak je e...</td>\n",
       "    </tr>\n",
       "    <tr>\n",
       "      <th>3</th>\n",
       "      <td>2059027</td>\n",
       "      <td>male</td>\n",
       "      <td>15</td>\n",
       "      <td>Student</td>\n",
       "      <td>Leo</td>\n",
       "      <td>12,May,2004</td>\n",
       "      <td>testing  testing</td>\n",
       "    </tr>\n",
       "    <tr>\n",
       "      <th>4</th>\n",
       "      <td>3581210</td>\n",
       "      <td>male</td>\n",
       "      <td>33</td>\n",
       "      <td>InvestmentBanking</td>\n",
       "      <td>Aquarius</td>\n",
       "      <td>11,June,2004</td>\n",
       "      <td>thanks to yahoos toolbar i can now capture the...</td>\n",
       "    </tr>\n",
       "  </tbody>\n",
       "</table>\n",
       "</div>"
      ],
      "text/plain": [
       "        id gender  age              topic      sign          date  \\\n",
       "0  2059027   male   15            Student       Leo   14,May,2004   \n",
       "1  2059027   male   15            Student       Leo   13,May,2004   \n",
       "2  2059027   male   15            Student       Leo   12,May,2004   \n",
       "3  2059027   male   15            Student       Leo   12,May,2004   \n",
       "4  3581210   male   33  InvestmentBanking  Aquarius  11,June,2004   \n",
       "\n",
       "                                                text  \n",
       "0  info has been found  100 pages and 45 mb of pd...  \n",
       "1  these are the team members   drewes van der la...  \n",
       "2  in het kader van kernfusie op aarde  maak je e...  \n",
       "3                                   testing  testing  \n",
       "4  thanks to yahoos toolbar i can now capture the...  "
      ]
     },
     "execution_count": 18,
     "metadata": {},
     "output_type": "execute_result"
    }
   ],
   "source": [
    "blog_df.head()"
   ]
  },
  {
   "cell_type": "code",
   "execution_count": 19,
   "metadata": {},
   "outputs": [],
   "source": [
    "#remove stopwords\n",
    "stopwords=set(stopwords.words('english'))"
   ]
  },
  {
   "cell_type": "code",
   "execution_count": 20,
   "metadata": {},
   "outputs": [],
   "source": [
    "blog_df.text = blog_df.text.apply(lambda t: ' '.join([words for words in t.split() if words not in stopwords]) )"
   ]
  },
  {
   "cell_type": "code",
   "execution_count": 21,
   "metadata": {},
   "outputs": [
    {
     "data": {
      "text/html": [
       "<div>\n",
       "<style scoped>\n",
       "    .dataframe tbody tr th:only-of-type {\n",
       "        vertical-align: middle;\n",
       "    }\n",
       "\n",
       "    .dataframe tbody tr th {\n",
       "        vertical-align: top;\n",
       "    }\n",
       "\n",
       "    .dataframe thead th {\n",
       "        text-align: right;\n",
       "    }\n",
       "</style>\n",
       "<table border=\"1\" class=\"dataframe\">\n",
       "  <thead>\n",
       "    <tr style=\"text-align: right;\">\n",
       "      <th></th>\n",
       "      <th>id</th>\n",
       "      <th>gender</th>\n",
       "      <th>age</th>\n",
       "      <th>topic</th>\n",
       "      <th>sign</th>\n",
       "      <th>date</th>\n",
       "      <th>text</th>\n",
       "    </tr>\n",
       "  </thead>\n",
       "  <tbody>\n",
       "    <tr>\n",
       "      <th>0</th>\n",
       "      <td>2059027</td>\n",
       "      <td>male</td>\n",
       "      <td>15</td>\n",
       "      <td>Student</td>\n",
       "      <td>Leo</td>\n",
       "      <td>14,May,2004</td>\n",
       "      <td>info found 100 pages 45 mb pdf files wait unti...</td>\n",
       "    </tr>\n",
       "    <tr>\n",
       "      <th>1</th>\n",
       "      <td>2059027</td>\n",
       "      <td>male</td>\n",
       "      <td>15</td>\n",
       "      <td>Student</td>\n",
       "      <td>Leo</td>\n",
       "      <td>13,May,2004</td>\n",
       "      <td>team members drewes van der laag urllink mail ...</td>\n",
       "    </tr>\n",
       "    <tr>\n",
       "      <th>2</th>\n",
       "      <td>2059027</td>\n",
       "      <td>male</td>\n",
       "      <td>15</td>\n",
       "      <td>Student</td>\n",
       "      <td>Leo</td>\n",
       "      <td>12,May,2004</td>\n",
       "      <td>het kader van kernfusie op aarde maak je eigen...</td>\n",
       "    </tr>\n",
       "    <tr>\n",
       "      <th>3</th>\n",
       "      <td>2059027</td>\n",
       "      <td>male</td>\n",
       "      <td>15</td>\n",
       "      <td>Student</td>\n",
       "      <td>Leo</td>\n",
       "      <td>12,May,2004</td>\n",
       "      <td>testing testing</td>\n",
       "    </tr>\n",
       "    <tr>\n",
       "      <th>4</th>\n",
       "      <td>3581210</td>\n",
       "      <td>male</td>\n",
       "      <td>33</td>\n",
       "      <td>InvestmentBanking</td>\n",
       "      <td>Aquarius</td>\n",
       "      <td>11,June,2004</td>\n",
       "      <td>thanks yahoos toolbar capture urls popupswhich...</td>\n",
       "    </tr>\n",
       "  </tbody>\n",
       "</table>\n",
       "</div>"
      ],
      "text/plain": [
       "        id gender  age              topic      sign          date  \\\n",
       "0  2059027   male   15            Student       Leo   14,May,2004   \n",
       "1  2059027   male   15            Student       Leo   13,May,2004   \n",
       "2  2059027   male   15            Student       Leo   12,May,2004   \n",
       "3  2059027   male   15            Student       Leo   12,May,2004   \n",
       "4  3581210   male   33  InvestmentBanking  Aquarius  11,June,2004   \n",
       "\n",
       "                                                text  \n",
       "0  info found 100 pages 45 mb pdf files wait unti...  \n",
       "1  team members drewes van der laag urllink mail ...  \n",
       "2  het kader van kernfusie op aarde maak je eigen...  \n",
       "3                                    testing testing  \n",
       "4  thanks yahoos toolbar capture urls popupswhich...  "
      ]
     },
     "execution_count": 21,
     "metadata": {},
     "output_type": "execute_result"
    }
   ],
   "source": [
    "blog_df.head()"
   ]
  },
  {
   "cell_type": "code",
   "execution_count": 22,
   "metadata": {},
   "outputs": [],
   "source": [
    "# drop id and date columns\n",
    "blog_df.drop(labels=['id','date'], axis=1,inplace=True)"
   ]
  },
  {
   "cell_type": "code",
   "execution_count": 23,
   "metadata": {},
   "outputs": [
    {
     "data": {
      "text/html": [
       "<div>\n",
       "<style scoped>\n",
       "    .dataframe tbody tr th:only-of-type {\n",
       "        vertical-align: middle;\n",
       "    }\n",
       "\n",
       "    .dataframe tbody tr th {\n",
       "        vertical-align: top;\n",
       "    }\n",
       "\n",
       "    .dataframe thead th {\n",
       "        text-align: right;\n",
       "    }\n",
       "</style>\n",
       "<table border=\"1\" class=\"dataframe\">\n",
       "  <thead>\n",
       "    <tr style=\"text-align: right;\">\n",
       "      <th></th>\n",
       "      <th>gender</th>\n",
       "      <th>age</th>\n",
       "      <th>topic</th>\n",
       "      <th>sign</th>\n",
       "      <th>text</th>\n",
       "    </tr>\n",
       "  </thead>\n",
       "  <tbody>\n",
       "    <tr>\n",
       "      <th>0</th>\n",
       "      <td>male</td>\n",
       "      <td>15</td>\n",
       "      <td>Student</td>\n",
       "      <td>Leo</td>\n",
       "      <td>info found 100 pages 45 mb pdf files wait unti...</td>\n",
       "    </tr>\n",
       "    <tr>\n",
       "      <th>1</th>\n",
       "      <td>male</td>\n",
       "      <td>15</td>\n",
       "      <td>Student</td>\n",
       "      <td>Leo</td>\n",
       "      <td>team members drewes van der laag urllink mail ...</td>\n",
       "    </tr>\n",
       "    <tr>\n",
       "      <th>2</th>\n",
       "      <td>male</td>\n",
       "      <td>15</td>\n",
       "      <td>Student</td>\n",
       "      <td>Leo</td>\n",
       "      <td>het kader van kernfusie op aarde maak je eigen...</td>\n",
       "    </tr>\n",
       "    <tr>\n",
       "      <th>3</th>\n",
       "      <td>male</td>\n",
       "      <td>15</td>\n",
       "      <td>Student</td>\n",
       "      <td>Leo</td>\n",
       "      <td>testing testing</td>\n",
       "    </tr>\n",
       "    <tr>\n",
       "      <th>4</th>\n",
       "      <td>male</td>\n",
       "      <td>33</td>\n",
       "      <td>InvestmentBanking</td>\n",
       "      <td>Aquarius</td>\n",
       "      <td>thanks yahoos toolbar capture urls popupswhich...</td>\n",
       "    </tr>\n",
       "  </tbody>\n",
       "</table>\n",
       "</div>"
      ],
      "text/plain": [
       "  gender  age              topic      sign  \\\n",
       "0   male   15            Student       Leo   \n",
       "1   male   15            Student       Leo   \n",
       "2   male   15            Student       Leo   \n",
       "3   male   15            Student       Leo   \n",
       "4   male   33  InvestmentBanking  Aquarius   \n",
       "\n",
       "                                                text  \n",
       "0  info found 100 pages 45 mb pdf files wait unti...  \n",
       "1  team members drewes van der laag urllink mail ...  \n",
       "2  het kader van kernfusie op aarde maak je eigen...  \n",
       "3                                    testing testing  \n",
       "4  thanks yahoos toolbar capture urls popupswhich...  "
      ]
     },
     "execution_count": 23,
     "metadata": {},
     "output_type": "execute_result"
    }
   ],
   "source": [
    "blog_df.head()"
   ]
  },
  {
   "cell_type": "markdown",
   "metadata": {},
   "source": [
    "# 3. As we want to make this into a multi-label classification problem, you are required to merge all the label columns together, so that we have all the labels together for a particular sentence"
   ]
  },
  {
   "cell_type": "code",
   "execution_count": 24,
   "metadata": {},
   "outputs": [],
   "source": [
    "blog_df['labels'] = blog_df.apply(lambda col : [col['gender'],col['age'],col['topic'],col['sign']], axis=1)"
   ]
  },
  {
   "cell_type": "code",
   "execution_count": 25,
   "metadata": {},
   "outputs": [
    {
     "data": {
      "text/html": [
       "<div>\n",
       "<style scoped>\n",
       "    .dataframe tbody tr th:only-of-type {\n",
       "        vertical-align: middle;\n",
       "    }\n",
       "\n",
       "    .dataframe tbody tr th {\n",
       "        vertical-align: top;\n",
       "    }\n",
       "\n",
       "    .dataframe thead th {\n",
       "        text-align: right;\n",
       "    }\n",
       "</style>\n",
       "<table border=\"1\" class=\"dataframe\">\n",
       "  <thead>\n",
       "    <tr style=\"text-align: right;\">\n",
       "      <th></th>\n",
       "      <th>gender</th>\n",
       "      <th>age</th>\n",
       "      <th>topic</th>\n",
       "      <th>sign</th>\n",
       "      <th>text</th>\n",
       "      <th>labels</th>\n",
       "    </tr>\n",
       "  </thead>\n",
       "  <tbody>\n",
       "    <tr>\n",
       "      <th>0</th>\n",
       "      <td>male</td>\n",
       "      <td>15</td>\n",
       "      <td>Student</td>\n",
       "      <td>Leo</td>\n",
       "      <td>info found 100 pages 45 mb pdf files wait unti...</td>\n",
       "      <td>[male, 15, Student, Leo]</td>\n",
       "    </tr>\n",
       "    <tr>\n",
       "      <th>1</th>\n",
       "      <td>male</td>\n",
       "      <td>15</td>\n",
       "      <td>Student</td>\n",
       "      <td>Leo</td>\n",
       "      <td>team members drewes van der laag urllink mail ...</td>\n",
       "      <td>[male, 15, Student, Leo]</td>\n",
       "    </tr>\n",
       "    <tr>\n",
       "      <th>2</th>\n",
       "      <td>male</td>\n",
       "      <td>15</td>\n",
       "      <td>Student</td>\n",
       "      <td>Leo</td>\n",
       "      <td>het kader van kernfusie op aarde maak je eigen...</td>\n",
       "      <td>[male, 15, Student, Leo]</td>\n",
       "    </tr>\n",
       "    <tr>\n",
       "      <th>3</th>\n",
       "      <td>male</td>\n",
       "      <td>15</td>\n",
       "      <td>Student</td>\n",
       "      <td>Leo</td>\n",
       "      <td>testing testing</td>\n",
       "      <td>[male, 15, Student, Leo]</td>\n",
       "    </tr>\n",
       "    <tr>\n",
       "      <th>4</th>\n",
       "      <td>male</td>\n",
       "      <td>33</td>\n",
       "      <td>InvestmentBanking</td>\n",
       "      <td>Aquarius</td>\n",
       "      <td>thanks yahoos toolbar capture urls popupswhich...</td>\n",
       "      <td>[male, 33, InvestmentBanking, Aquarius]</td>\n",
       "    </tr>\n",
       "  </tbody>\n",
       "</table>\n",
       "</div>"
      ],
      "text/plain": [
       "  gender  age              topic      sign  \\\n",
       "0   male   15            Student       Leo   \n",
       "1   male   15            Student       Leo   \n",
       "2   male   15            Student       Leo   \n",
       "3   male   15            Student       Leo   \n",
       "4   male   33  InvestmentBanking  Aquarius   \n",
       "\n",
       "                                                text  \\\n",
       "0  info found 100 pages 45 mb pdf files wait unti...   \n",
       "1  team members drewes van der laag urllink mail ...   \n",
       "2  het kader van kernfusie op aarde maak je eigen...   \n",
       "3                                    testing testing   \n",
       "4  thanks yahoos toolbar capture urls popupswhich...   \n",
       "\n",
       "                                    labels  \n",
       "0                 [male, 15, Student, Leo]  \n",
       "1                 [male, 15, Student, Leo]  \n",
       "2                 [male, 15, Student, Leo]  \n",
       "3                 [male, 15, Student, Leo]  \n",
       "4  [male, 33, InvestmentBanking, Aquarius]  "
      ]
     },
     "execution_count": 25,
     "metadata": {},
     "output_type": "execute_result"
    }
   ],
   "source": [
    "blog_df.head()"
   ]
  },
  {
   "cell_type": "code",
   "execution_count": 26,
   "metadata": {},
   "outputs": [],
   "source": [
    "#drop  gender,age,topic & sign as they are already merged to labels column\n",
    "blog_df.drop(columns=['gender','age','topic','sign'], axis=1, inplace=True)"
   ]
  },
  {
   "cell_type": "code",
   "execution_count": 27,
   "metadata": {},
   "outputs": [
    {
     "data": {
      "text/html": [
       "<div>\n",
       "<style scoped>\n",
       "    .dataframe tbody tr th:only-of-type {\n",
       "        vertical-align: middle;\n",
       "    }\n",
       "\n",
       "    .dataframe tbody tr th {\n",
       "        vertical-align: top;\n",
       "    }\n",
       "\n",
       "    .dataframe thead th {\n",
       "        text-align: right;\n",
       "    }\n",
       "</style>\n",
       "<table border=\"1\" class=\"dataframe\">\n",
       "  <thead>\n",
       "    <tr style=\"text-align: right;\">\n",
       "      <th></th>\n",
       "      <th>text</th>\n",
       "      <th>labels</th>\n",
       "    </tr>\n",
       "  </thead>\n",
       "  <tbody>\n",
       "    <tr>\n",
       "      <th>0</th>\n",
       "      <td>info found 100 pages 45 mb pdf files wait unti...</td>\n",
       "      <td>[male, 15, Student, Leo]</td>\n",
       "    </tr>\n",
       "    <tr>\n",
       "      <th>1</th>\n",
       "      <td>team members drewes van der laag urllink mail ...</td>\n",
       "      <td>[male, 15, Student, Leo]</td>\n",
       "    </tr>\n",
       "    <tr>\n",
       "      <th>2</th>\n",
       "      <td>het kader van kernfusie op aarde maak je eigen...</td>\n",
       "      <td>[male, 15, Student, Leo]</td>\n",
       "    </tr>\n",
       "    <tr>\n",
       "      <th>3</th>\n",
       "      <td>testing testing</td>\n",
       "      <td>[male, 15, Student, Leo]</td>\n",
       "    </tr>\n",
       "    <tr>\n",
       "      <th>4</th>\n",
       "      <td>thanks yahoos toolbar capture urls popupswhich...</td>\n",
       "      <td>[male, 33, InvestmentBanking, Aquarius]</td>\n",
       "    </tr>\n",
       "  </tbody>\n",
       "</table>\n",
       "</div>"
      ],
      "text/plain": [
       "                                                text  \\\n",
       "0  info found 100 pages 45 mb pdf files wait unti...   \n",
       "1  team members drewes van der laag urllink mail ...   \n",
       "2  het kader van kernfusie op aarde maak je eigen...   \n",
       "3                                    testing testing   \n",
       "4  thanks yahoos toolbar capture urls popupswhich...   \n",
       "\n",
       "                                    labels  \n",
       "0                 [male, 15, Student, Leo]  \n",
       "1                 [male, 15, Student, Leo]  \n",
       "2                 [male, 15, Student, Leo]  \n",
       "3                 [male, 15, Student, Leo]  \n",
       "4  [male, 33, InvestmentBanking, Aquarius]  "
      ]
     },
     "execution_count": 27,
     "metadata": {},
     "output_type": "execute_result"
    }
   ],
   "source": [
    "blog_df.head()"
   ]
  },
  {
   "cell_type": "markdown",
   "metadata": {},
   "source": [
    "# 4. Separate features and labels, and split the data into training and testing "
   ]
  },
  {
   "cell_type": "code",
   "execution_count": 28,
   "metadata": {},
   "outputs": [],
   "source": [
    "X= blog_df.text\n",
    "y = blog_df.labels"
   ]
  },
  {
   "cell_type": "code",
   "execution_count": 29,
   "metadata": {},
   "outputs": [],
   "source": [
    "# split X and y into training and testing sets\n",
    "X_train, X_test, y_train, y_test = train_test_split(X,y, random_state=2,test_size = 0.2)"
   ]
  },
  {
   "cell_type": "code",
   "execution_count": 30,
   "metadata": {},
   "outputs": [
    {
     "name": "stdout",
     "output_type": "stream",
     "text": [
      "(40000,)\n",
      "(40000,)\n"
     ]
    }
   ],
   "source": [
    "print(X_train.shape)\n",
    "print(y_train.shape)"
   ]
  },
  {
   "cell_type": "code",
   "execution_count": 31,
   "metadata": {},
   "outputs": [
    {
     "name": "stdout",
     "output_type": "stream",
     "text": [
      "(10000,)\n",
      "(10000,)\n"
     ]
    }
   ],
   "source": [
    "print(X_test.shape)\n",
    "print(y_test.shape)"
   ]
  },
  {
   "cell_type": "code",
   "execution_count": 32,
   "metadata": {},
   "outputs": [
    {
     "data": {
      "text/plain": [
       "23656    yes since ive stopped bytheres really much cat...\n",
       "27442                                        urllink blast\n",
       "40162    stumbled across site called stopped clock well...\n",
       "8459     well much thought panick prayer know ia suppos...\n",
       "8051                                  urllink nbsp urllink\n",
       "                               ...                        \n",
       "44231    urllink habitat humanity intl jimmy carter hab...\n",
       "18034    1 friend mine got new job supervisors name sto...\n",
       "33856    usually band makes record write 10 12 songs pu...\n",
       "15906    age grow well duh guess obvious statement make...\n",
       "40899    im tired morning cant even think straight went...\n",
       "Name: text, Length: 10000, dtype: object"
      ]
     },
     "execution_count": 32,
     "metadata": {},
     "output_type": "execute_result"
    }
   ],
   "source": [
    "X_test"
   ]
  },
  {
   "cell_type": "markdown",
   "metadata": {},
   "source": [
    "# 5. Vectorize the features\n",
    "a. Create a Bag of Words using count vectorizer\n",
    "\n",
    "i. Use ngram_range=(1, 2)\n",
    "\n",
    "ii. Vectorize training and testing features\n",
    "\n",
    "b. Print the term-document matrix"
   ]
  },
  {
   "cell_type": "code",
   "execution_count": 33,
   "metadata": {},
   "outputs": [],
   "source": [
    "cvect = CountVectorizer(ngram_range=(1,2))"
   ]
  },
  {
   "cell_type": "code",
   "execution_count": 34,
   "metadata": {},
   "outputs": [
    {
     "data": {
      "text/plain": [
       "2658973"
      ]
     },
     "execution_count": 34,
     "metadata": {},
     "output_type": "execute_result"
    }
   ],
   "source": [
    "cvect.fit(X_train)\n",
    "len(cvect.vocabulary_)"
   ]
  },
  {
   "cell_type": "code",
   "execution_count": 35,
   "metadata": {},
   "outputs": [
    {
     "data": {
      "text/plain": [
       "['00',\n",
       " '00 damarcus',\n",
       " '00 damn',\n",
       " '00 draw',\n",
       " '00 duke',\n",
       " '00 games',\n",
       " '00 laughed',\n",
       " '00 match',\n",
       " '00 one',\n",
       " '00 soooooo',\n",
       " '00 tcr1',\n",
       " '00 uppercase_75_100',\n",
       " '00 watch',\n",
       " '00 well',\n",
       " '000',\n",
       " '000 address',\n",
       " '000 available',\n",
       " '000 calories',\n",
       " '000 chunk',\n",
       " '000 first',\n",
       " '000 fulltime',\n",
       " '000 good',\n",
       " '000 heh',\n",
       " '000 nothing',\n",
       " '000 rupees',\n",
       " '000 seats',\n",
       " '000 sec',\n",
       " '000 songs',\n",
       " '000 subject',\n",
       " '000 yen',\n",
       " '0000',\n",
       " '0000 blinking',\n",
       " '0000 new',\n",
       " '000000',\n",
       " '000000 flickrframe',\n",
       " '000000 fontfamily',\n",
       " '000000 fontsize',\n",
       " '0000001',\n",
       " '0000001 zbaras',\n",
       " '000000flickryourcomment',\n",
       " '000000flickryourcomment flickrframe',\n",
       " '000000this',\n",
       " '000000this certifies',\n",
       " '000001',\n",
       " '000001 maybe',\n",
       " '00000800',\n",
       " '00000800 thats',\n",
       " '000021php',\n",
       " '000021php less',\n",
       " '0000ff',\n",
       " '0000ff click',\n",
       " '0000ff fontsize',\n",
       " '0001',\n",
       " '0001 chances',\n",
       " '0001 nice',\n",
       " '00011000101',\n",
       " '00011000101 benji',\n",
       " '001',\n",
       " '001 003',\n",
       " '001 first',\n",
       " '001 spell',\n",
       " '001 urllink',\n",
       " '002',\n",
       " '002 44th',\n",
       " '002 candidates',\n",
       " '002 currently',\n",
       " '002 first',\n",
       " '002 middle',\n",
       " '002 spell',\n",
       " '002 thank',\n",
       " '002 urllink',\n",
       " '002020',\n",
       " '002020 gmt',\n",
       " '003',\n",
       " '003 date',\n",
       " '003 last',\n",
       " '003 mg',\n",
       " '003 texas',\n",
       " '003 urllink',\n",
       " '0030',\n",
       " '0030 morning',\n",
       " '0030 thats',\n",
       " '003200',\n",
       " '003200 cmaj7',\n",
       " '004',\n",
       " '004 male',\n",
       " '004 nicknames',\n",
       " '004 urllink',\n",
       " '005',\n",
       " '005 astrological',\n",
       " '005 euroes',\n",
       " '005 eurosnbsp',\n",
       " '005 gender',\n",
       " '005 per',\n",
       " '005 urllink',\n",
       " '006',\n",
       " '006 age',\n",
       " '006 nicknames',\n",
       " '006 urllink',\n",
       " '007',\n",
       " '007 birthday',\n",
       " '007 dance',\n",
       " '007 dun',\n",
       " '007 game',\n",
       " '007 go',\n",
       " '007 jersey',\n",
       " '007 nbsp',\n",
       " '007 nightfire',\n",
       " '007 occupation',\n",
       " '007 start',\n",
       " '007 today',\n",
       " '007 tomorrow',\n",
       " '007 undocumentables',\n",
       " '007nbsp',\n",
       " '007nbsp agree',\n",
       " '008',\n",
       " '008 height',\n",
       " '009',\n",
       " '009 hair',\n",
       " '009 weight',\n",
       " '00s',\n",
       " '00s abc',\n",
       " '00s one',\n",
       " '00t',\n",
       " '00t damn',\n",
       " '01',\n",
       " '01 02',\n",
       " '01 101102',\n",
       " '01 1964',\n",
       " '01 1972',\n",
       " '01 2004',\n",
       " '01 best',\n",
       " '01 bette',\n",
       " '01 broccoli',\n",
       " '01 butterfly',\n",
       " '01 charge',\n",
       " '01 color',\n",
       " '01 come',\n",
       " '01 cows',\n",
       " '01 disrespectful',\n",
       " '01 drugs',\n",
       " '01 favorite',\n",
       " '01 freedom',\n",
       " '01 friends',\n",
       " '01 given',\n",
       " '01 goofy',\n",
       " '01 hammy',\n",
       " '01 informs',\n",
       " '01 jewel',\n",
       " '01 keyboard',\n",
       " '01 known',\n",
       " '01 neon',\n",
       " '01 pants',\n",
       " '01 percent',\n",
       " '01 person',\n",
       " '01 project',\n",
       " '01 role',\n",
       " '01 seconds',\n",
       " '01 still',\n",
       " '01 sundrop',\n",
       " '01 televive',\n",
       " '01 time',\n",
       " '01 triggered',\n",
       " '01 underworld',\n",
       " '01 victoria',\n",
       " '01 waiting',\n",
       " '01 我的地盤',\n",
       " '010',\n",
       " '010 answer',\n",
       " '010 custom',\n",
       " '010 customer',\n",
       " '010 eye',\n",
       " '010 flashing',\n",
       " '010 hair',\n",
       " '010 national',\n",
       " '010 never',\n",
       " '0100',\n",
       " '0100 wokeup',\n",
       " '0100010001101111011100100110101101111000',\n",
       " '010101',\n",
       " '010101 last',\n",
       " '010101 personal',\n",
       " '0102',\n",
       " '0102 north',\n",
       " '0102 right',\n",
       " '010203',\n",
       " '010203 hehehe',\n",
       " '011',\n",
       " '011 eye',\n",
       " '011 race',\n",
       " '011 uich',\n",
       " '01187',\n",
       " '01187 _______________________',\n",
       " '012',\n",
       " '012 born',\n",
       " '012 glasses',\n",
       " '01212004',\n",
       " '01212004 therese',\n",
       " '01234',\n",
       " '01234 time',\n",
       " '012xxxxxxx',\n",
       " '012xxxxxxx wah',\n",
       " '013',\n",
       " '013 dodid',\n",
       " '013 give',\n",
       " '013 inch',\n",
       " '013 micron',\n",
       " '013 reside',\n",
       " '0130',\n",
       " '0130 morningnbsp',\n",
       " '014',\n",
       " '014 age',\n",
       " '014 hair',\n",
       " '015',\n",
       " '015 born',\n",
       " '015 gallon',\n",
       " '015 screen',\n",
       " '016',\n",
       " '016 current',\n",
       " '016 email',\n",
       " '017',\n",
       " '017 screen',\n",
       " '017 zodiac',\n",
       " '01752',\n",
       " '01752 224840',\n",
       " '018',\n",
       " '018 djgj',\n",
       " '018 felipe',\n",
       " '018 many',\n",
       " '0185nbspnbspnbspnbspnbspnbspnbspnbspnbspnbspnbspnbspnbspnbspnbspnbspnbspnbspnbspnbspnbspnbspnbspnbspnbspnbspnbspnbspnbspnbspnbspnbspnbspnbspnbspnbspnbspnbspnbspnbspnbspnbspnbspnbspnbspnbspnbspnbspnbspnbspnbspnbspnbspnbspnbspnbspnbspnbspnbspnbspnbspnbsp',\n",
       " '0185nbspnbspnbspnbspnbspnbspnbspnbspnbspnbspnbspnbspnbspnbspnbspnbspnbspnbspnbspnbspnbspnbspnbspnbspnbspnbspnbspnbspnbspnbspnbspnbspnbspnbspnbspnbspnbspnbspnbspnbspnbspnbspnbspnbspnbspnbspnbspnbspnbspnbspnbspnbspnbspnbspnbspnbspnbspnbspnbspnbspnbspnbsp margaret',\n",
       " '019',\n",
       " '019 diary',\n",
       " '019 nationality',\n",
       " '01july04',\n",
       " '01july04 ripped',\n",
       " '01sportslocal40bcccb655d6315d86256ee2001cbc29txt',\n",
       " '01sportslocal40bcccb655d6315d86256ee2001cbc29txt yesterday',\n",
       " '02',\n",
       " '02 1964',\n",
       " '02 2002',\n",
       " '02 2004',\n",
       " '02 ali',\n",
       " '02 annoying',\n",
       " '02 argue',\n",
       " '02 ashley',\n",
       " '02 blackwhite',\n",
       " '02 boyfriendgirlfriend',\n",
       " '02 britney',\n",
       " '02 cheerwine',\n",
       " '02 could',\n",
       " '02 deadbeat',\n",
       " '02 dj',\n",
       " '02 dork',\n",
       " '02 drop',\n",
       " '02 dumb',\n",
       " '02 encore',\n",
       " '02 faced',\n",
       " '02 fear',\n",
       " '02 food',\n",
       " '02 geography',\n",
       " '02 hope',\n",
       " '02 im',\n",
       " '02 keyboard',\n",
       " '02 kind',\n",
       " '02 last',\n",
       " '02 lott',\n",
       " '02 lucky',\n",
       " '02 magic',\n",
       " '02 mama',\n",
       " '02 may',\n",
       " '02 movies',\n",
       " '02 nbspnbspnbspnbspnbspnbspnbspnbsp',\n",
       " '02 percent',\n",
       " '02 personal',\n",
       " '02 pet',\n",
       " '02 rascal',\n",
       " '02 released',\n",
       " '02 republicans',\n",
       " '02 right',\n",
       " '02 season',\n",
       " '02 simpsons',\n",
       " '02 slab',\n",
       " '02 smoked',\n",
       " '02 statement',\n",
       " '02 still',\n",
       " '02 super',\n",
       " '02 tattoos',\n",
       " '02 weve',\n",
       " '02 wilding',\n",
       " '02 would',\n",
       " '02 七里香',\n",
       " '020',\n",
       " '020 bad',\n",
       " '020 pets',\n",
       " '020031',\n",
       " '020031 pm',\n",
       " '020101',\n",
       " '020101 clubs',\n",
       " '0203',\n",
       " '0203 getting',\n",
       " '0203 inland',\n",
       " '0203 transfer',\n",
       " '021',\n",
       " '021 number',\n",
       " '021 piercings',\n",
       " '021 totally',\n",
       " '021426',\n",
       " '021426 homepage',\n",
       " '0215',\n",
       " '0215 gmt',\n",
       " '021535',\n",
       " '021535 2004',\n",
       " '0217',\n",
       " '0217 pm',\n",
       " '0218',\n",
       " '0218 pm',\n",
       " '02182004',\n",
       " '02182004 urllink',\n",
       " '0219',\n",
       " '0219 pm',\n",
       " '022',\n",
       " '022 piercings',\n",
       " '0220',\n",
       " '0220 pm',\n",
       " '0221',\n",
       " '0221 pm',\n",
       " '0222',\n",
       " '0222 pm',\n",
       " '0223',\n",
       " '0223 pm',\n",
       " '02232004',\n",
       " '0224',\n",
       " '0224 pm',\n",
       " '0225',\n",
       " '0225 pm',\n",
       " '0225 reverse',\n",
       " '0226',\n",
       " '0226 pm',\n",
       " '0227',\n",
       " '0227 pm',\n",
       " '0228',\n",
       " '0228 pm',\n",
       " '0229',\n",
       " '0229 pm',\n",
       " '023',\n",
       " '023 tattoos',\n",
       " '0230',\n",
       " '0230 pm',\n",
       " '0231',\n",
       " '0231 pm',\n",
       " '0232',\n",
       " '0232 pm',\n",
       " '0233',\n",
       " '0233 pm',\n",
       " '0234',\n",
       " '0234 pm',\n",
       " '0235',\n",
       " '0235 pm',\n",
       " '0236',\n",
       " '0236 pm',\n",
       " '0237',\n",
       " '0237 ian',\n",
       " '0237 pm',\n",
       " '0238',\n",
       " '0238 pm',\n",
       " '024',\n",
       " '024 shoe',\n",
       " '024 tattoos',\n",
       " '0240',\n",
       " '0240 pm',\n",
       " '0241',\n",
       " '0241 pm',\n",
       " '0243',\n",
       " '0243 pm',\n",
       " '0244',\n",
       " '0244 pm',\n",
       " '0245',\n",
       " '0245 pm',\n",
       " '0246',\n",
       " '0246 pm',\n",
       " '0247',\n",
       " '0247 pm',\n",
       " '0248',\n",
       " '0248 pm',\n",
       " '025',\n",
       " '025 liability',\n",
       " '025 righty',\n",
       " '025 seconds',\n",
       " '025 todays',\n",
       " '0250',\n",
       " '0250 pm',\n",
       " '0251',\n",
       " '0251 pm',\n",
       " '0252',\n",
       " '0252 pm',\n",
       " '0253',\n",
       " '0253 pm',\n",
       " '0254',\n",
       " '0254 pm',\n",
       " '0255',\n",
       " '0255 pm',\n",
       " '025613',\n",
       " '025613 pm',\n",
       " '0257',\n",
       " '0257 pm',\n",
       " '0258',\n",
       " '0258 pm',\n",
       " '026',\n",
       " '026 main',\n",
       " '026 time',\n",
       " '026 wearing',\n",
       " '026119',\n",
       " '026119 63',\n",
       " '026hr',\n",
       " '026hr raise',\n",
       " '027',\n",
       " '027 hearing',\n",
       " '027 ready',\n",
       " '028',\n",
       " '028 feeling',\n",
       " '028 mothers',\n",
       " '029',\n",
       " '029 eatingdrinking',\n",
       " '029 fathers',\n",
       " '02july04',\n",
       " '02july04 week',\n",
       " '03',\n",
       " '03 04',\n",
       " '03 1972',\n",
       " '03 2004',\n",
       " '03 alan',\n",
       " '03 always',\n",
       " '03 aware',\n",
       " '03 back',\n",
       " '03 boys',\n",
       " '03 bungee',\n",
       " '03 csi',\n",
       " '03 deadbeat',\n",
       " '03 encoded',\n",
       " '03 ever',\n",
       " '03 fiesta',\n",
       " '03 freaky',\n",
       " '03 fucked',\n",
       " '03 gd',\n",
       " '03 gold',\n",
       " '03 greatest',\n",
       " '03 jaime',\n",
       " '03 january',\n",
       " '03 kameron',\n",
       " '03 kfc',\n",
       " '03 knows',\n",
       " '03 lives',\n",
       " '03 mcdonalds',\n",
       " '03 moz',\n",
       " '03 never',\n",
       " '03 percent',\n",
       " '03 present',\n",
       " '03 remember',\n",
       " '03 remove',\n",
       " '03 scared',\n",
       " '03 school',\n",
       " '03 since',\n",
       " '03 state',\n",
       " '03 taurus',\n",
       " '03 time',\n",
       " '03 tokyo',\n",
       " '03 untitled',\n",
       " '03 water',\n",
       " '03 way',\n",
       " '03 would',\n",
       " '03 藉口',\n",
       " '030',\n",
       " '030 stepparents',\n",
       " '0300',\n",
       " '0300 someone',\n",
       " '0300 things',\n",
       " '030101',\n",
       " '030101 restaurants',\n",
       " '0304',\n",
       " '0304 hat',\n",
       " '0304 week',\n",
       " '031',\n",
       " '031 brotherss',\n",
       " '0312002',\n",
       " '0312002 limited',\n",
       " '0315',\n",
       " '0315 aogatססn饴rjifcbqӹbӧaҥ',\n",
       " '03152004',\n",
       " '03152004 urllink',\n",
       " '032',\n",
       " '032 desk',\n",
       " '032 sisterss',\n",
       " '032000',\n",
       " '032000 c7madd11',\n",
       " '032203',\n",
       " '032203 pm',\n",
       " '033',\n",
       " '033 favorite',\n",
       " '0330',\n",
       " '0330 deserted',\n",
       " '0330 doze',\n",
       " '0330 temple',\n",
       " '033100',\n",
       " '033100 pm',\n",
       " '034',\n",
       " '034 favorite',\n",
       " '034 pay',\n",
       " '034000',\n",
       " '034000 chords',\n",
       " '0347',\n",
       " '0347 pm',\n",
       " '035',\n",
       " '035 favorite',\n",
       " '0355106628',\n",
       " '0355106628 anyway',\n",
       " '036',\n",
       " '036 vote',\n",
       " '036 worst',\n",
       " '037',\n",
       " '037 best',\n",
       " '037 us',\n",
       " '038',\n",
       " '038 get',\n",
       " '039',\n",
       " '039 anyone',\n",
       " '03mg',\n",
       " '03mg nicotine',\n",
       " '03my',\n",
       " '03my life',\n",
       " '03v3',\n",
       " '03v3 t0day',\n",
       " '04',\n",
       " '04 05',\n",
       " '04 09',\n",
       " '04 2003',\n",
       " '04 2004',\n",
       " '04 added',\n",
       " '04 allen',\n",
       " '04 apocalypse',\n",
       " '04 ashley',\n",
       " '04 asses',\n",
       " '04 banging',\n",
       " '04 black',\n",
       " '04 bumper',\n",
       " '04 car',\n",
       " '04 character',\n",
       " '04 chels',\n",
       " '04 chelsi',\n",
       " '04 christy',\n",
       " '04 ck',\n",
       " '04 compassionate',\n",
       " '04 conan',\n",
       " '04 dbitft01a',\n",
       " '04 dont',\n",
       " '04 due',\n",
       " '04 economys',\n",
       " '04 electra',\n",
       " '04 else',\n",
       " '04 encoded',\n",
       " '04 ever',\n",
       " '04 expressing',\n",
       " '04 far',\n",
       " '04 finals',\n",
       " '04 follow',\n",
       " '04 four',\n",
       " '04 fun',\n",
       " '04 get',\n",
       " '04 girls',\n",
       " '04 gooder',\n",
       " '04 graphics',\n",
       " '04 hates',\n",
       " '04 heart',\n",
       " '04 hes',\n",
       " '04 ian',\n",
       " '04 im',\n",
       " '04 kasey',\n",
       " '04 kid',\n",
       " '04 kids',\n",
       " '04 last',\n",
       " '04 leave',\n",
       " '04 less',\n",
       " '04 listening',\n",
       " '04 lunch',\n",
       " '04 made',\n",
       " '04 making',\n",
       " '04 martina',\n",
       " '04 million_usd',\n",
       " '04 mozer',\n",
       " '04 nobrainer',\n",
       " '04 note',\n",
       " '04 nothing',\n",
       " '04 ntu',\n",
       " '04 opening',\n",
       " '04 oso',\n",
       " '04 passed',\n",
       " '04 people',\n",
       " '04 pineapple',\n",
       " '04 political',\n",
       " '04 pray',\n",
       " '04 pretty',\n",
       " '04 putting',\n",
       " '04 range',\n",
       " '04 season',\n",
       " '04 sf',\n",
       " '04 shirt',\n",
       " '04 soap',\n",
       " '04 started',\n",
       " '04 state',\n",
       " '04 subscription',\n",
       " '04 tasks',\n",
       " '04 tea',\n",
       " '04 thank',\n",
       " '04 thanks',\n",
       " '04 ticket',\n",
       " '04 time',\n",
       " '04 training',\n",
       " '04 trustworthy',\n",
       " '04 truth',\n",
       " '04 webpage',\n",
       " '04 well',\n",
       " '04 wont',\n",
       " '04 world',\n",
       " '04 written',\n",
       " '04 外婆',\n",
       " '040',\n",
       " '040 24hour',\n",
       " '040 pets',\n",
       " '0400',\n",
       " '0400 im',\n",
       " '0400 web',\n",
       " '0400hrs',\n",
       " '0400hrs tuesday',\n",
       " '040101',\n",
       " '040101 clubs',\n",
       " '040404',\n",
       " '040404 happens',\n",
       " '0405',\n",
       " '0405 bgsu',\n",
       " '0405 nbsp',\n",
       " '041',\n",
       " '041 names',\n",
       " '041722',\n",
       " '041722 pm',\n",
       " '041804',\n",
       " '041804 httparxivorgquantphabs0312043v1',\n",
       " '041935',\n",
       " '041935 pm',\n",
       " '042',\n",
       " '042 kind',\n",
       " '0425',\n",
       " '0425 mangal',\n",
       " '042721',\n",
       " '042721 andrew',\n",
       " '043',\n",
       " '043 still',\n",
       " '0430',\n",
       " '0430 first',\n",
       " '0430pm',\n",
       " '0430pm urllink',\n",
       " '044',\n",
       " '044 drop',\n",
       " '045',\n",
       " '045 current',\n",
       " '045090',\n",
       " '045090 usd',\n",
       " '046',\n",
       " '046 favorite',\n",
       " '047',\n",
       " '047 least',\n",
       " '04722866124',\n",
       " '04722866124 one',\n",
       " '048',\n",
       " '048 favorite',\n",
       " '049',\n",
       " '049 least',\n",
       " '04but',\n",
       " '04but couldnt',\n",
       " '04ck05',\n",
       " '04yet',\n",
       " '04yet another',\n",
       " '05',\n",
       " '05 03',\n",
       " '05 06',\n",
       " '05 074658',\n",
       " '05 1956',\n",
       " '05 1976',\n",
       " '05 1999',\n",
       " '05 2003',\n",
       " '05 2004',\n",
       " '05 baby',\n",
       " '05 back',\n",
       " '05 clash',\n",
       " '05 class',\n",
       " '05 come',\n",
       " '05 edited',\n",
       " '05 ever',\n",
       " '05 favorite',\n",
       " '05 finish',\n",
       " '05 forget',\n",
       " '05 gas',\n",
       " '05 gives',\n",
       " '05 green',\n",
       " '05 hee',\n",
       " '05 im',\n",
       " '05 increase',\n",
       " '05 jennifer',\n",
       " '05 jul',\n",
       " '05 kicks',\n",
       " '05 like',\n",
       " '05 little',\n",
       " '05 makes',\n",
       " '05 mama',\n",
       " '05 march',\n",
       " '05 may',\n",
       " '05 multiple',\n",
       " '05 oh',\n",
       " '05 paychecks',\n",
       " '05 sandwiches',\n",
       " '05 score',\n",
       " '05 script',\n",
       " '05 second',\n",
       " '05 skinny',\n",
       " '05 stalking',\n",
       " '05 subjects',\n",
       " '05 super',\n",
       " '05 sweet',\n",
       " '05 things',\n",
       " '05 trouble',\n",
       " '05 unfortunately',\n",
       " '05 urllink',\n",
       " '05 want',\n",
       " '05 將軍',\n",
       " '050',\n",
       " '050 every',\n",
       " '050 favorite',\n",
       " '050 tip',\n",
       " '050101',\n",
       " '050101 clubs',\n",
       " '05032004',\n",
       " '05032004 naming',\n",
       " '050402',\n",
       " '050402 2003',\n",
       " '0505pm',\n",
       " '0506',\n",
       " '0506 procrastinate',\n",
       " '051',\n",
       " '051 least',\n",
       " '051101',\n",
       " '051101 67',\n",
       " '051104',\n",
       " '051104 therese',\n",
       " '051204',\n",
       " '051204 ap',\n",
       " '051304',\n",
       " '051304 therese',\n",
       " '05142004',\n",
       " '05142004 0812',\n",
       " '05162004',\n",
       " '05162004 dreamtheaternet',\n",
       " '051704',\n",
       " '052',\n",
       " '052 dodid',\n",
       " '052404',\n",
       " '052404 everything',\n",
       " '0525',\n",
       " '0525 pm',\n",
       " '052704',\n",
       " '05292004',\n",
       " '05292004 dreamtheaternet',\n",
       " '053',\n",
       " '053 play',\n",
       " '0530',\n",
       " '0530 0600',\n",
       " '054',\n",
       " '054 dodid',\n",
       " '054417',\n",
       " '054417 pm',\n",
       " '0545hrs',\n",
       " '0545hrs realised',\n",
       " '055',\n",
       " '055 arewere',\n",
       " '055 million',\n",
       " '055359',\n",
       " '055359 pm',\n",
       " '056',\n",
       " '056 favorite',\n",
       " '056 laying',\n",
       " '056116',\n",
       " '056116 written',\n",
       " '057',\n",
       " '057 favorite',\n",
       " '058',\n",
       " '058 least',\n",
       " '059',\n",
       " '059 least',\n",
       " '05april',\n",
       " '05april 05',\n",
       " '05april2004',\n",
       " '05april2004 today',\n",
       " '05aug04',\n",
       " '05aug04 draw',\n",
       " '05mg',\n",
       " '05mg one',\n",
       " '06',\n",
       " '06 032203',\n",
       " '06 041935',\n",
       " '06 054417',\n",
       " '06 091103',\n",
       " '06 100010',\n",
       " '06 112850',\n",
       " '06 121033',\n",
       " '06 121148',\n",
       " '06 1956',\n",
       " '06 1960',\n",
       " '06 2004',\n",
       " '06 airs',\n",
       " '06 animals',\n",
       " '06 bread',\n",
       " '06 breakfast',\n",
       " '06 bruce',\n",
       " '06 cloud',\n",
       " '06 computerobsessed',\n",
       " '06 ever',\n",
       " '06 hard',\n",
       " '06 hey',\n",
       " '06 im',\n",
       " '06 john',\n",
       " '06 julie',\n",
       " '06 mama',\n",
       " '06 many',\n",
       " '06 miles',\n",
       " '06 music',\n",
       " '06 pm',\n",
       " '06 sent',\n",
       " '06 set',\n",
       " '06 shoes',\n",
       " '06 subj_all_caps',\n",
       " '06 sure',\n",
       " '06 things',\n",
       " '06 tonight',\n",
       " '06 type',\n",
       " '06 well',\n",
       " '06 擱淺',\n",
       " '060',\n",
       " '060 humiliating',\n",
       " '0600',\n",
       " '0600 morning',\n",
       " '0600 please',\n",
       " '0600 rehearse',\n",
       " '060101',\n",
       " '060101 restaurants',\n",
       " '06022004',\n",
       " '06022004 0823',\n",
       " '060404',\n",
       " '060404 better',\n",
       " '060804',\n",
       " '06082004',\n",
       " '06082004 therese',\n",
       " '061',\n",
       " '061 ever',\n",
       " '061 number',\n",
       " '061000',\n",
       " '061000 t061000',\n",
       " '06112004',\n",
       " '06112004 therese',\n",
       " '061404',\n",
       " '061404 lightheaded',\n",
       " '06162004',\n",
       " '06162004 recent',\n",
       " '061704',\n",
       " '061704 keyspan',\n",
       " '06172004',\n",
       " '06172004 case',\n",
       " '061904',\n",
       " '061904 1201',\n",
       " '062',\n",
       " '062 clothing',\n",
       " '062 many',\n",
       " '06212004',\n",
       " '0622',\n",
       " '0622 opened',\n",
       " '062215',\n",
       " '062215 caracas',\n",
       " '0625',\n",
       " '0625 main',\n",
       " '062504nbsp',\n",
       " '062504nbsp urllink',\n",
       " '062604nbsp',\n",
       " '062604nbsp urllink',\n",
       " '062804',\n",
       " '062804 urllink',\n",
       " '063',\n",
       " '063 many',\n",
       " '063 shoes',\n",
       " '063004',\n",
       " '063004 urllink',\n",
       " '0630nbsp',\n",
       " '0630nbsp explains',\n",
       " '0630nbsp thats',\n",
       " '06311',\n",
       " '06311 s680136see',\n",
       " '064',\n",
       " '064 6800',\n",
       " '064 many',\n",
       " '064 saying',\n",
       " '065',\n",
       " '065 ever',\n",
       " '065 tv',\n",
       " '066',\n",
       " '066 many',\n",
       " '066 sports',\n",
       " '067',\n",
       " '067 look',\n",
       " '067 vegetables',\n",
       " '068',\n",
       " '068 fruits',\n",
       " '068 whats',\n",
       " '069',\n",
       " '069 cash',\n",
       " '069 flat',\n",
       " '069 movies',\n",
       " '069 type',\n",
       " '06april2004',\n",
       " '06april2004 today',\n",
       " '06th',\n",
       " '06th 1987',\n",
       " '07',\n",
       " '07 08',\n",
       " '07 113529',\n",
       " '07 1992',\n",
       " '07 2003',\n",
       " '07 2004',\n",
       " '07 adjust',\n",
       " '07 always',\n",
       " '07 chocolate',\n",
       " '07 deodorant',\n",
       " '07 des',\n",
       " '07 distro',\n",
       " '07 ever',\n",
       " '07 extremely',\n",
       " '07 generation',\n",
       " '07 hot',\n",
       " '07 jesus',\n",
       " '07 last',\n",
       " '07 mad',\n",
       " '07 made',\n",
       " '07 much',\n",
       " '07 ohio',\n",
       " '07 olympics',\n",
       " '07 pam',\n",
       " '07 priority_no_name',\n",
       " '07 script',\n",
       " '07 sigh',\n",
       " '07 smash',\n",
       " '07 sports',\n",
       " '07 still',\n",
       " '07 things',\n",
       " '07 think',\n",
       " '07 tweety',\n",
       " '07 us_dollars_3',\n",
       " '07 via',\n",
       " '07 would',\n",
       " '07 亂舞春秋',\n",
       " '070',\n",
       " '070 bfgf',\n",
       " '070 magazine',\n",
       " '0700',\n",
       " '0700 age',\n",
       " '0700 dont',\n",
       " '0700 finalize',\n",
       " '0700pm',\n",
       " '0700pm well',\n",
       " '070101',\n",
       " '070101 clubs',\n",
       " '07072004',\n",
       " '07072004 143958',\n",
       " '0709',\n",
       " '0709 waiting',\n",
       " '071',\n",
       " '071 actors',\n",
       " '071 meet',\n",
       " '071004',\n",
       " '071004 friday',\n",
       " '072',\n",
       " '072 actress',\n",
       " '072 like',\n",
       " '072604',\n",
       " '072604 volkswagen',\n",
       " '073',\n",
       " '073 candy',\n",
       " '073 crush',\n",
       " '0730',\n",
       " '0730 everyday',\n",
       " '0730 go',\n",
       " '0730hrs',\n",
       " '0730hrs next',\n",
       " '0738',\n",
       " '0738 gmt',\n",
       " '074',\n",
       " ...]"
      ]
     },
     "execution_count": 35,
     "metadata": {},
     "output_type": "execute_result"
    }
   ],
   "source": [
    "cvect.get_feature_names()"
   ]
  },
  {
   "cell_type": "code",
   "execution_count": 36,
   "metadata": {},
   "outputs": [],
   "source": [
    "X_train_ct = cvect.transform(X_train)"
   ]
  },
  {
   "cell_type": "code",
   "execution_count": 37,
   "metadata": {},
   "outputs": [
    {
     "data": {
      "text/plain": [
       "scipy.sparse.csr.csr_matrix"
      ]
     },
     "execution_count": 37,
     "metadata": {},
     "output_type": "execute_result"
    }
   ],
   "source": [
    "type(X_train_ct)"
   ]
  },
  {
   "cell_type": "code",
   "execution_count": 38,
   "metadata": {},
   "outputs": [
    {
     "data": {
      "text/plain": [
       "<40000x2658973 sparse matrix of type '<class 'numpy.int64'>'\n",
       "\twith 7207062 stored elements in Compressed Sparse Row format>"
      ]
     },
     "execution_count": 38,
     "metadata": {},
     "output_type": "execute_result"
    }
   ],
   "source": [
    "X_train_ct"
   ]
  },
  {
   "cell_type": "code",
   "execution_count": 39,
   "metadata": {},
   "outputs": [
    {
     "data": {
      "text/plain": [
       "<1x2658973 sparse matrix of type '<class 'numpy.int64'>'\n",
       "\twith 31 stored elements in Compressed Sparse Row format>"
      ]
     },
     "execution_count": 39,
     "metadata": {},
     "output_type": "execute_result"
    }
   ],
   "source": [
    "X_train_ct[0]"
   ]
  },
  {
   "cell_type": "code",
   "execution_count": 40,
   "metadata": {},
   "outputs": [],
   "source": [
    "X_test_ct = cvect.transform(X_test)"
   ]
  },
  {
   "cell_type": "code",
   "execution_count": 41,
   "metadata": {},
   "outputs": [
    {
     "data": {
      "text/plain": [
       "<10000x2658973 sparse matrix of type '<class 'numpy.int64'>'\n",
       "\twith 1244239 stored elements in Compressed Sparse Row format>"
      ]
     },
     "execution_count": 41,
     "metadata": {},
     "output_type": "execute_result"
    }
   ],
   "source": [
    "X_test_ct"
   ]
  },
  {
   "cell_type": "code",
   "execution_count": 42,
   "metadata": {},
   "outputs": [
    {
     "data": {
      "text/plain": [
       "['00',\n",
       " '00 damarcus',\n",
       " '00 damn',\n",
       " '00 draw',\n",
       " '00 duke',\n",
       " '00 games',\n",
       " '00 laughed',\n",
       " '00 match',\n",
       " '00 one',\n",
       " '00 soooooo']"
      ]
     },
     "execution_count": 42,
     "metadata": {},
     "output_type": "execute_result"
    }
   ],
   "source": [
    "cvect.get_feature_names()[:10]"
   ]
  },
  {
   "cell_type": "code",
   "execution_count": 43,
   "metadata": {},
   "outputs": [
    {
     "name": "stdout",
     "output_type": "stream",
     "text": [
      "  (0, 24790)\t1\n",
      "  (0, 24938)\t1\n",
      "  (0, 196030)\t1\n",
      "  (0, 196064)\t1\n",
      "  (0, 472550)\t1\n",
      "  (0, 472558)\t1\n",
      "  (0, 553986)\t1\n",
      "  (0, 553989)\t1\n",
      "  (0, 1056600)\t1\n",
      "  (0, 1103708)\t1\n",
      "  (0, 1104108)\t1\n",
      "  (0, 1104762)\t1\n",
      "  (0, 1105040)\t1\n",
      "  (0, 1330118)\t1\n",
      "  (0, 1339085)\t1\n",
      "  (0, 1375960)\t1\n",
      "  (0, 1376293)\t1\n",
      "  (0, 1402683)\t1\n",
      "  (0, 1404156)\t1\n",
      "  (0, 1530012)\t1\n",
      "  (0, 1530085)\t1\n",
      "  (0, 1946305)\t1\n",
      "  (0, 1946313)\t1\n",
      "  (0, 1964418)\t1\n",
      "  (0, 1964423)\t1\n",
      "  :\t:\n",
      "  (39999, 2410716)\t1\n",
      "  (39999, 2474799)\t1\n",
      "  (39999, 2475638)\t1\n",
      "  (39999, 2511306)\t1\n",
      "  (39999, 2514073)\t1\n",
      "  (39999, 2528806)\t2\n",
      "  (39999, 2530828)\t1\n",
      "  (39999, 2532333)\t1\n",
      "  (39999, 2587514)\t1\n",
      "  (39999, 2587753)\t1\n",
      "  (39999, 2591946)\t1\n",
      "  (39999, 2592717)\t1\n",
      "  (39999, 2603815)\t1\n",
      "  (39999, 2604128)\t1\n",
      "  (39999, 2608979)\t2\n",
      "  (39999, 2609232)\t1\n",
      "  (39999, 2609337)\t1\n",
      "  (39999, 2615448)\t2\n",
      "  (39999, 2615888)\t1\n",
      "  (39999, 2615912)\t1\n",
      "  (39999, 2618623)\t2\n",
      "  (39999, 2618637)\t1\n",
      "  (39999, 2618898)\t1\n",
      "  (39999, 2621571)\t1\n",
      "  (39999, 2621956)\t1\n"
     ]
    }
   ],
   "source": [
    "print(X_train_ct)"
   ]
  },
  {
   "cell_type": "code",
   "execution_count": 44,
   "metadata": {},
   "outputs": [
    {
     "name": "stdout",
     "output_type": "stream",
     "text": [
      "  (0, 51363)\t1\n",
      "  (0, 68283)\t1\n",
      "  (0, 70210)\t1\n",
      "  (0, 105064)\t1\n",
      "  (0, 105667)\t1\n",
      "  (0, 107303)\t1\n",
      "  (0, 107726)\t1\n",
      "  (0, 116533)\t1\n",
      "  (0, 117325)\t1\n",
      "  (0, 136713)\t1\n",
      "  (0, 145284)\t1\n",
      "  (0, 146831)\t1\n",
      "  (0, 238529)\t1\n",
      "  (0, 238766)\t1\n",
      "  (0, 246888)\t1\n",
      "  (0, 247319)\t1\n",
      "  (0, 251476)\t1\n",
      "  (0, 252290)\t1\n",
      "  (0, 274830)\t1\n",
      "  (0, 276158)\t1\n",
      "  (0, 349435)\t1\n",
      "  (0, 383251)\t1\n",
      "  (0, 386139)\t1\n",
      "  (0, 386649)\t1\n",
      "  (0, 402933)\t1\n",
      "  :\t:\n",
      "  (9999, 2514144)\t1\n",
      "  (9999, 2515808)\t1\n",
      "  (9999, 2516336)\t1\n",
      "  (9999, 2526492)\t1\n",
      "  (9999, 2527001)\t1\n",
      "  (9999, 2528806)\t1\n",
      "  (9999, 2529512)\t1\n",
      "  (9999, 2545727)\t1\n",
      "  (9999, 2548084)\t1\n",
      "  (9999, 2551318)\t1\n",
      "  (9999, 2554188)\t1\n",
      "  (9999, 2567911)\t2\n",
      "  (9999, 2575394)\t2\n",
      "  (9999, 2575842)\t1\n",
      "  (9999, 2575950)\t1\n",
      "  (9999, 2580417)\t1\n",
      "  (9999, 2580428)\t1\n",
      "  (9999, 2589575)\t1\n",
      "  (9999, 2601912)\t1\n",
      "  (9999, 2617737)\t1\n",
      "  (9999, 2643435)\t1\n",
      "  (9999, 2643876)\t1\n",
      "  (9999, 2649230)\t1\n",
      "  (9999, 2649788)\t1\n",
      "  (9999, 2651385)\t1\n"
     ]
    }
   ],
   "source": [
    "print(X_test_ct)"
   ]
  },
  {
   "cell_type": "markdown",
   "metadata": {},
   "source": [
    "# 6 Create a dictionary to get the count of every label i.e. the key will be label name and value will be the total count of the label. Check below image for reference "
   ]
  },
  {
   "cell_type": "code",
   "execution_count": 45,
   "metadata": {},
   "outputs": [],
   "source": [
    "label_counts=dict()\n",
    "\n",
    "for labels in blog_df.labels.values:\n",
    "    for label in labels:\n",
    "        if label in label_counts:\n",
    "            label_counts[str(label)]+=1\n",
    "        else:\n",
    "            label_counts[str(label)]=1"
   ]
  },
  {
   "cell_type": "code",
   "execution_count": 46,
   "metadata": {},
   "outputs": [
    {
     "data": {
      "text/plain": [
       "{'male': 25815,\n",
       " '15': 1,\n",
       " 'Student': 10660,\n",
       " 'Leo': 3904,\n",
       " '33': 1,\n",
       " 'InvestmentBanking': 85,\n",
       " 'Aquarius': 4784,\n",
       " 'female': 24185,\n",
       " '14': 1,\n",
       " 'indUnk': 17560,\n",
       " 'Aries': 7795,\n",
       " '25': 1,\n",
       " 'Capricorn': 3819,\n",
       " '17': 1,\n",
       " 'Gemini': 2558,\n",
       " '23': 1,\n",
       " 'Non-Profit': 491,\n",
       " 'Cancer': 4589,\n",
       " 'Banking': 283,\n",
       " '37': 1,\n",
       " 'Sagittarius': 4571,\n",
       " '26': 1,\n",
       " '24': 1,\n",
       " 'Scorpio': 3243,\n",
       " '27': 1,\n",
       " 'Education': 2646,\n",
       " '45': 1,\n",
       " 'Engineering': 1402,\n",
       " 'Libra': 4378,\n",
       " 'Science': 705,\n",
       " '34': 1,\n",
       " '41': 1,\n",
       " 'Communications-Media': 1603,\n",
       " 'BusinessServices': 416,\n",
       " 'Sports-Recreation': 120,\n",
       " 'Virgo': 2827,\n",
       " 'Taurus': 3390,\n",
       " 'Arts': 1817,\n",
       " 'Pisces': 4142,\n",
       " '44': 1,\n",
       " '16': 1,\n",
       " 'Internet': 1420,\n",
       " 'Museums-Libraries': 285,\n",
       " 'Accounting': 364,\n",
       " '39': 1,\n",
       " '35': 1,\n",
       " 'Technology': 4379,\n",
       " '36': 1,\n",
       " 'Law': 308,\n",
       " '46': 1,\n",
       " 'Consulting': 243,\n",
       " 'Automotive': 116,\n",
       " '42': 1,\n",
       " 'Religion': 258,\n",
       " '13': 1,\n",
       " 'Fashion': 1805,\n",
       " '38': 1,\n",
       " '43': 1,\n",
       " 'Publishing': 207,\n",
       " '40': 1,\n",
       " 'Marketing': 414,\n",
       " 'LawEnforcement-Security': 125,\n",
       " 'HumanResources': 79,\n",
       " 'Telecommunications': 12,\n",
       " 'Military': 194,\n",
       " 'Government': 599,\n",
       " 'Transportation': 196,\n",
       " 'Architecture': 70,\n",
       " 'Advertising': 273,\n",
       " '47': 1,\n",
       " 'Agriculture': 78,\n",
       " 'Biotech': 101,\n",
       " 'RealEstate': 17,\n",
       " 'Manufacturing': 441,\n",
       " '48': 1,\n",
       " 'Construction': 28,\n",
       " 'Chemicals': 75,\n",
       " 'Maritime': 54,\n",
       " 'Tourism': 65,\n",
       " 'Environment': 6}"
      ]
     },
     "execution_count": 46,
     "metadata": {},
     "output_type": "execute_result"
    }
   ],
   "source": [
    "label_counts"
   ]
  },
  {
   "cell_type": "markdown",
   "metadata": {},
   "source": [
    "# 7. Transform the labels \n",
    "As we have noticed before, in this task each example can have multiple tags. To deal with\n",
    "such kind of prediction, we need to transform labels in a binary form and the prediction will be\n",
    "a mask of 0s and 1s. For this purpose, it is convenient to use MultiLabelBinarizer from sklearn\n",
    "a. Convert your train and test labels using MultiLabelBinarizer"
   ]
  },
  {
   "cell_type": "code",
   "execution_count": 47,
   "metadata": {},
   "outputs": [],
   "source": [
    "from sklearn.preprocessing import MultiLabelBinarizer\n",
    "binarizer=MultiLabelBinarizer(classes=sorted(label_counts.keys()))"
   ]
  },
  {
   "cell_type": "code",
   "execution_count": 48,
   "metadata": {},
   "outputs": [],
   "source": [
    "y_train = binarizer.fit_transform(y_train)"
   ]
  },
  {
   "cell_type": "code",
   "execution_count": 49,
   "metadata": {},
   "outputs": [],
   "source": [
    "y_test = binarizer.transform(y_test)"
   ]
  },
  {
   "cell_type": "code",
   "execution_count": 50,
   "metadata": {},
   "outputs": [
    {
     "data": {
      "text/plain": [
       "array([[0, 0, 0, ..., 1, 0, 0],\n",
       "       [0, 0, 0, ..., 1, 0, 0],\n",
       "       [0, 0, 0, ..., 0, 1, 1],\n",
       "       ...,\n",
       "       [0, 0, 0, ..., 0, 0, 1],\n",
       "       [0, 0, 0, ..., 0, 0, 1],\n",
       "       [0, 0, 0, ..., 0, 0, 1]])"
      ]
     },
     "execution_count": 50,
     "metadata": {},
     "output_type": "execute_result"
    }
   ],
   "source": [
    "y_test"
   ]
  },
  {
   "cell_type": "code",
   "execution_count": 51,
   "metadata": {},
   "outputs": [
    {
     "data": {
      "text/plain": [
       "array([[0, 0, 0, ..., 1, 1, 0],\n",
       "       [0, 0, 0, ..., 1, 0, 0],\n",
       "       [0, 0, 0, ..., 0, 0, 1],\n",
       "       ...,\n",
       "       [0, 0, 0, ..., 0, 0, 1],\n",
       "       [0, 0, 0, ..., 1, 0, 0],\n",
       "       [0, 0, 0, ..., 1, 0, 0]])"
      ]
     },
     "execution_count": 51,
     "metadata": {},
     "output_type": "execute_result"
    }
   ],
   "source": [
    "y_train"
   ]
  },
  {
   "cell_type": "markdown",
   "metadata": {},
   "source": [
    "# 8 Choose a classifier \n",
    "In this task, we suggest using the One-vs-Rest approach, which is implemented in\n",
    "OneVsRestClassifier class. In this approach k classifiers (= number of tags) are trained. As a\n",
    "basic classifier, use LogisticRegression . It is one of the simplest methods, but often it\n",
    "performs good enough in text classification tasks. It might take some time because the\n",
    "number of classifiers to train is large.\n",
    "\n",
    "\n",
    "# 9. Fit the classifier, make predictions and get the accuracy \n",
    "a. Print the following\n",
    "i. Accuracy score\n",
    "ii. F1 score\n",
    "iii. Average precision score\n",
    "iv. Average recall score\n",
    "v. Tip: Make sure you are familiar with all of them. How would you expect the\n",
    "things to work for the multi-label scenario? Read about micro/macro/weighted\n",
    "averaging"
   ]
  },
  {
   "cell_type": "code",
   "execution_count": 52,
   "metadata": {},
   "outputs": [],
   "source": [
    "from sklearn.multiclass import OneVsRestClassifier\n",
    "from sklearn.linear_model import LogisticRegression"
   ]
  },
  {
   "cell_type": "code",
   "execution_count": 53,
   "metadata": {},
   "outputs": [],
   "source": [
    "model=LogisticRegression(solver='lbfgs')\n",
    "model=OneVsRestClassifier(model)\n"
   ]
  },
  {
   "cell_type": "code",
   "execution_count": 54,
   "metadata": {},
   "outputs": [
    {
     "data": {
      "text/plain": [
       "OneVsRestClassifier(estimator=LogisticRegression())"
      ]
     },
     "execution_count": 54,
     "metadata": {},
     "output_type": "execute_result"
    }
   ],
   "source": [
    "model.fit(X_train_ct,y_train)"
   ]
  },
  {
   "cell_type": "code",
   "execution_count": 55,
   "metadata": {},
   "outputs": [],
   "source": [
    "Ypred=model.predict(X_test_ct)"
   ]
  },
  {
   "cell_type": "code",
   "execution_count": 56,
   "metadata": {},
   "outputs": [
    {
     "data": {
      "text/plain": [
       "array([[0, 0, 0, ..., 1, 1, 0],\n",
       "       [0, 0, 0, ..., 0, 0, 0],\n",
       "       [0, 0, 0, ..., 0, 0, 1],\n",
       "       ...,\n",
       "       [0, 0, 0, ..., 0, 1, 1],\n",
       "       [0, 0, 0, ..., 0, 0, 1],\n",
       "       [0, 0, 0, ..., 1, 0, 0]])"
      ]
     },
     "execution_count": 56,
     "metadata": {},
     "output_type": "execute_result"
    }
   ],
   "source": [
    "Ypred"
   ]
  },
  {
   "cell_type": "code",
   "execution_count": 57,
   "metadata": {},
   "outputs": [
    {
     "data": {
      "text/plain": [
       "array([[0, 0, 0, ..., 1, 0, 0],\n",
       "       [0, 0, 0, ..., 1, 0, 0],\n",
       "       [0, 0, 0, ..., 0, 1, 1],\n",
       "       ...,\n",
       "       [0, 0, 0, ..., 0, 0, 1],\n",
       "       [0, 0, 0, ..., 0, 0, 1],\n",
       "       [0, 0, 0, ..., 0, 0, 1]])"
      ]
     },
     "execution_count": 57,
     "metadata": {},
     "output_type": "execute_result"
    }
   ],
   "source": [
    "y_test"
   ]
  },
  {
   "cell_type": "code",
   "execution_count": 58,
   "metadata": {},
   "outputs": [],
   "source": [
    "from sklearn.metrics import accuracy_score\n",
    "from sklearn.metrics import f1_score\n",
    "from sklearn.metrics import average_precision_score\n",
    "from sklearn.metrics import recall_score\n",
    "\n",
    "def micro(Ytest, Ypred):\n",
    "    print('Accuracy score: ', accuracy_score(Ytest, Ypred))\n",
    "    print('F1 score: Micro', f1_score(Ytest, Ypred, average='micro'))\n",
    "    print('Average precision score: Micro', average_precision_score(Ytest, Ypred, average='micro'))\n",
    "    print('Average recall score: Micro', recall_score(Ytest, Ypred, average='micro'))\n",
    "    \n",
    "    \n",
    "def macro(Ytest, Ypred):\n",
    "    print('Accuracy score: ', accuracy_score(Ytest, Ypred))\n",
    "    print('F1 score: Macro', f1_score(Ytest, Ypred, average='macro'))\n",
    "    print('Average recall score: MAcro', recall_score(Ytest, Ypred, average='macro'))\n",
    "    \n",
    "def weighted(Ytest, Ypred):\n",
    "    print('Accuracy score: ', accuracy_score(Ytest, Ypred))\n",
    "    print('F1 score: weighted', f1_score(Ytest, Ypred, average='weighted'))\n",
    "    print('Average precision score: weighted', average_precision_score(Ytest, Ypred, average='weighted'))\n",
    "    print('Average recall score: weighted', recall_score(Ytest, Ypred, average='weighted'))\n",
    "    \n",
    "    "
   ]
  },
  {
   "cell_type": "code",
   "execution_count": 59,
   "metadata": {},
   "outputs": [
    {
     "name": "stdout",
     "output_type": "stream",
     "text": [
      "Accuracy score:  0.1405\n",
      "F1 score: Micro 0.5118881747494268\n",
      "Average precision score: Micro 0.3214872313997333\n",
      "Average recall score: Micro 0.3796333333333333\n"
     ]
    }
   ],
   "source": [
    "micro(y_test,Ypred)"
   ]
  },
  {
   "cell_type": "code",
   "execution_count": 60,
   "metadata": {},
   "outputs": [
    {
     "name": "stdout",
     "output_type": "stream",
     "text": [
      "Accuracy score:  0.1405\n",
      "F1 score: Macro 0.1726649599582501\n",
      "Average recall score: MAcro 0.11607159558340578\n"
     ]
    }
   ],
   "source": [
    "macro(y_test,Ypred)"
   ]
  },
  {
   "cell_type": "code",
   "execution_count": 61,
   "metadata": {},
   "outputs": [
    {
     "name": "stdout",
     "output_type": "stream",
     "text": [
      "Accuracy score:  0.1405\n",
      "F1 score: weighted 0.4726077924781931\n",
      "Average precision score: weighted 0.4188823240256142\n",
      "Average recall score: weighted 0.3796333333333333\n"
     ]
    }
   ],
   "source": [
    "weighted(y_test,Ypred)"
   ]
  },
  {
   "cell_type": "markdown",
   "metadata": {},
   "source": [
    "# 10.Print true label and predicted label for any five examples"
   ]
  },
  {
   "cell_type": "code",
   "execution_count": 62,
   "metadata": {},
   "outputs": [],
   "source": [
    "preds = Ypred[:15]\n",
    "actuals = y_test[:15]"
   ]
  },
  {
   "cell_type": "code",
   "execution_count": 63,
   "metadata": {},
   "outputs": [
    {
     "data": {
      "text/plain": [
       "[('Cancer', 'Engineering', 'female'),\n",
       " ('Libra', 'Science', 'female'),\n",
       " ('Leo', 'indUnk', 'male'),\n",
       " ('Cancer', 'female', 'indUnk'),\n",
       " ('Sagittarius', 'indUnk', 'male'),\n",
       " ('Libra', 'female', 'indUnk'),\n",
       " ('Aries', 'female', 'indUnk'),\n",
       " ('Aries', 'Technology', 'male'),\n",
       " ('Libra', 'indUnk', 'male'),\n",
       " ('Sagittarius', 'female', 'indUnk'),\n",
       " ('Cancer', 'indUnk', 'male'),\n",
       " ('Sagittarius', 'Science', 'male'),\n",
       " ('Aries', 'Technology', 'male'),\n",
       " ('Capricorn', 'Student', 'male'),\n",
       " ('Aquarius', 'Fashion', 'female')]"
      ]
     },
     "execution_count": 63,
     "metadata": {},
     "output_type": "execute_result"
    }
   ],
   "source": [
    "five_actual = binarizer.inverse_transform(actuals)\n",
    "five_actual"
   ]
  },
  {
   "cell_type": "code",
   "execution_count": 64,
   "metadata": {},
   "outputs": [
    {
     "data": {
      "text/plain": [
       "[('Cancer', 'Engineering', 'female', 'indUnk'),\n",
       " (),\n",
       " ('male',),\n",
       " ('female',),\n",
       " ('male',),\n",
       " (),\n",
       " ('Student', 'female'),\n",
       " ('male',),\n",
       " (),\n",
       " ('Sagittarius', 'female', 'indUnk'),\n",
       " (),\n",
       " ('male',),\n",
       " ('Aries', 'Technology', 'male'),\n",
       " ('female',),\n",
       " ('female',)]"
      ]
     },
     "execution_count": 64,
     "metadata": {},
     "output_type": "execute_result"
    }
   ],
   "source": [
    "five_pred = binarizer.inverse_transform(preds)\n",
    "five_pred"
   ]
  },
  {
   "cell_type": "code",
   "execution_count": 65,
   "metadata": {},
   "outputs": [
    {
     "name": "stdout",
     "output_type": "stream",
     "text": [
      "('male',)\n",
      "('Aries', 'Technology', 'male')\n"
     ]
    }
   ],
   "source": [
    "print(binarizer.inverse_transform(Ypred)[877])\n",
    "print(binarizer.inverse_transform(y_test)[877])"
   ]
  },
  {
   "cell_type": "code",
   "execution_count": 66,
   "metadata": {},
   "outputs": [
    {
     "name": "stdout",
     "output_type": "stream",
     "text": [
      "('Sagittarius', 'female', 'indUnk')\n",
      "('Sagittarius', 'female', 'indUnk')\n"
     ]
    }
   ],
   "source": [
    "print(binarizer.inverse_transform(Ypred)[514])\n",
    "print(binarizer.inverse_transform(y_test)[514])"
   ]
  },
  {
   "cell_type": "code",
   "execution_count": 67,
   "metadata": {},
   "outputs": [
    {
     "name": "stdout",
     "output_type": "stream",
     "text": [
      "('male',)\n",
      "('Aries', 'Fashion', 'male')\n"
     ]
    }
   ],
   "source": [
    "print(binarizer.inverse_transform(Ypred)[99])\n",
    "print(binarizer.inverse_transform(y_test)[99])"
   ]
  },
  {
   "cell_type": "code",
   "execution_count": 68,
   "metadata": {},
   "outputs": [
    {
     "name": "stdout",
     "output_type": "stream",
     "text": [
      "('female', 'indUnk')\n",
      "('Communications-Media', 'Libra', 'male')\n"
     ]
    }
   ],
   "source": [
    "print(binarizer.inverse_transform(Ypred)[499])\n",
    "print(binarizer.inverse_transform(y_test)[499])"
   ]
  },
  {
   "cell_type": "code",
   "execution_count": 69,
   "metadata": {},
   "outputs": [
    {
     "name": "stdout",
     "output_type": "stream",
     "text": [
      "('male',)\n",
      "('Sagittarius', 'indUnk', 'male')\n"
     ]
    }
   ],
   "source": [
    "print(binarizer.inverse_transform(Ypred)[699])\n",
    "print(binarizer.inverse_transform(y_test)[699])"
   ]
  }
 ],
 "metadata": {
  "kernelspec": {
   "display_name": "Python 3",
   "language": "python",
   "name": "python3"
  },
  "language_info": {
   "codemirror_mode": {
    "name": "ipython",
    "version": 3
   },
   "file_extension": ".py",
   "mimetype": "text/x-python",
   "name": "python",
   "nbconvert_exporter": "python",
   "pygments_lexer": "ipython3",
   "version": "3.8.8"
  }
 },
 "nbformat": 4,
 "nbformat_minor": 4
}
